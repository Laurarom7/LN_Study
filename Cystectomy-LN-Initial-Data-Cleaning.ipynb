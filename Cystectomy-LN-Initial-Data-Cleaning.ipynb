{
 "cells": [
  {
   "cell_type": "markdown",
   "metadata": {},
   "source": [
    "## Cystectonomy Lymph Node Study\n",
    "**September 2019**"
   ]
  },
  {
   "cell_type": "code",
   "execution_count": 2,
   "metadata": {},
   "outputs": [],
   "source": [
    "import pandas as pd\n",
    "import numpy as np\n",
    "import matplotlib.pyplot as plt\n",
    "import seaborn as sns\n",
    "\n",
    "%matplotlib inline"
   ]
  },
  {
   "cell_type": "markdown",
   "metadata": {},
   "source": [
    "## I. Data cleaning script"
   ]
  },
  {
   "cell_type": "markdown",
   "metadata": {},
   "source": [
    "#### Upload Original data"
   ]
  },
  {
   "cell_type": "code",
   "execution_count": 79,
   "metadata": {},
   "outputs": [],
   "source": [
    "df = pd.read_csv('./data/Cystectomy-LN-Study_LR-CSV.csv')"
   ]
  },
  {
   "cell_type": "markdown",
   "metadata": {},
   "source": [
    "Clean up"
   ]
  },
  {
   "cell_type": "code",
   "execution_count": 80,
   "metadata": {
    "scrolled": false
   },
   "outputs": [],
   "source": [
    "#Drop null columns\n",
    "df.drop([208,209],inplace=True)\n",
    "#Convert Case Number ot int\n",
    "df.astype({'Case Number': 'int32'})\n",
    "df.set_index('Case Number',inplace=True)\n",
    "#Clean up sex, alive/dead column:\n",
    "df.replace({'male': 'Male', 'M':'Male','female': 'Female','F':'Female'},inplace=True)\n",
    "df['alive/dead'].replace({'ALIVE':'alive'},inplace=True)\n",
    "#Make binary is Male, is alive column (1=yes)\n",
    "df['Male'] = df['Sex'].replace({'Male':1,'Female':0})\n",
    "#Make binary is alive column (0 = dead, 1= alive)\n",
    "df['alive'] = df['alive/dead'].replace({'alive':1,'dead':0})"
   ]
  },
  {
   "cell_type": "code",
   "execution_count": null,
   "metadata": {},
   "outputs": [],
   "source": [
    "#Save cleaned file\n",
    "#df.to_csv('./data/Cystectomy_cleaned.csv')"
   ]
  },
  {
   "cell_type": "markdown",
   "metadata": {},
   "source": [
    "#### Upload data with Extended Categories"
   ]
  },
  {
   "cell_type": "code",
   "execution_count": 275,
   "metadata": {},
   "outputs": [],
   "source": [
    "#Includes additional field \"Extent of LND\"\n",
    "#Lymph Node Dissection (0=no LND, 1=limited, 2=extended, 3=superextended)\n",
    "df = pd.read_csv('./data/Cystectomy_cleaned_with_LND_Extent.csv')"
   ]
  },
  {
   "cell_type": "markdown",
   "metadata": {},
   "source": [
    "Clean Up"
   ]
  },
  {
   "cell_type": "code",
   "execution_count": 276,
   "metadata": {},
   "outputs": [],
   "source": [
    "#create alive_awd (0 = dead, 1 = alive, 2 = alive with disease)\n",
    "def label_awd(row):\n",
    "    if row['alive'] == 0:\n",
    "        return 0\n",
    "    elif row['alive'] ==1 and row['AWD?'] == 1:\n",
    "        return 2\n",
    "    elif row['alive'] ==1 and row['AWD?'] ==0:\n",
    "        return 1"
   ]
  },
  {
   "cell_type": "code",
   "execution_count": 277,
   "metadata": {},
   "outputs": [],
   "source": [
    "#Apply to new column\n",
    "df['alive_awd'] = df.apply(lambda row: label_awd(row), axis=1)\n",
    "\n",
    "#Edit bins for # Examined, replace old one\n",
    "df.rename(columns={'binned':'binned_LNs_examined'},inplace=True)\n",
    "bins = [0,5,10,15,20,25,30,35,40,45,50,75]\n",
    "labels= [1,2,3,4,5,6,7,8,9,10,11]\n",
    "df['binned_LNs_examined'] = pd.cut(df['# LNs examined'], bins=bins, labels=labels)\n",
    "\n",
    "#Add Descriptions to Extent of LND\n",
    "df['Extent of LND Description'] = df['Extent of LND'].replace({0:'None',\n",
    "                                                               1:'Limited',\n",
    "                                                               2:'Extended',\n",
    "                                                               3:'Super Extended'})\n",
    "#Write ot csv\n",
    "df.to_csv('./data/Cystectomy_cleaned_with_LND_Extent_updated.csv')"
   ]
  },
  {
   "cell_type": "code",
   "execution_count": 278,
   "metadata": {},
   "outputs": [
    {
     "data": {
      "text/html": [
       "<div>\n",
       "<style scoped>\n",
       "    .dataframe tbody tr th:only-of-type {\n",
       "        vertical-align: middle;\n",
       "    }\n",
       "\n",
       "    .dataframe tbody tr th {\n",
       "        vertical-align: top;\n",
       "    }\n",
       "\n",
       "    .dataframe thead th {\n",
       "        text-align: right;\n",
       "    }\n",
       "</style>\n",
       "<table border=\"1\" class=\"dataframe\">\n",
       "  <thead>\n",
       "    <tr style=\"text-align: right;\">\n",
       "      <th></th>\n",
       "      <th>Case Number</th>\n",
       "      <th>Sex</th>\n",
       "      <th>Age at bx</th>\n",
       "      <th>Date of Cystectomy</th>\n",
       "      <th>Last F/U date</th>\n",
       "      <th>F/U mos</th>\n",
       "      <th>alive/dead</th>\n",
       "      <th>AWD?</th>\n",
       "      <th># LNs examined</th>\n",
       "      <th># LNs +</th>\n",
       "      <th># LN specimens</th>\n",
       "      <th>Male</th>\n",
       "      <th>alive</th>\n",
       "      <th>binned_LNs_examined</th>\n",
       "      <th>Extent of LND</th>\n",
       "      <th>Other/Notes/Complications</th>\n",
       "      <th>Flag</th>\n",
       "      <th>alive_awd</th>\n",
       "      <th>Extent of LND Description</th>\n",
       "    </tr>\n",
       "  </thead>\n",
       "  <tbody>\n",
       "    <tr>\n",
       "      <th>0</th>\n",
       "      <td>1</td>\n",
       "      <td>Male</td>\n",
       "      <td>68</td>\n",
       "      <td>3/3/09</td>\n",
       "      <td>8/13/19</td>\n",
       "      <td>125</td>\n",
       "      <td>alive</td>\n",
       "      <td>0.0</td>\n",
       "      <td>18</td>\n",
       "      <td>0</td>\n",
       "      <td>3</td>\n",
       "      <td>1</td>\n",
       "      <td>1</td>\n",
       "      <td>4</td>\n",
       "      <td>1</td>\n",
       "      <td>NaN</td>\n",
       "      <td>NaN</td>\n",
       "      <td>1</td>\n",
       "      <td>Limited</td>\n",
       "    </tr>\n",
       "    <tr>\n",
       "      <th>1</th>\n",
       "      <td>2</td>\n",
       "      <td>Female</td>\n",
       "      <td>80</td>\n",
       "      <td>1/30/09</td>\n",
       "      <td>1/2/13</td>\n",
       "      <td>47</td>\n",
       "      <td>alive</td>\n",
       "      <td>0.0</td>\n",
       "      <td>13</td>\n",
       "      <td>0</td>\n",
       "      <td>4</td>\n",
       "      <td>0</td>\n",
       "      <td>1</td>\n",
       "      <td>3</td>\n",
       "      <td>2</td>\n",
       "      <td>NaN</td>\n",
       "      <td>NaN</td>\n",
       "      <td>1</td>\n",
       "      <td>Extended</td>\n",
       "    </tr>\n",
       "    <tr>\n",
       "      <th>2</th>\n",
       "      <td>3</td>\n",
       "      <td>Female</td>\n",
       "      <td>73</td>\n",
       "      <td>3/24/09</td>\n",
       "      <td>9/9/11</td>\n",
       "      <td>29</td>\n",
       "      <td>alive</td>\n",
       "      <td>1.0</td>\n",
       "      <td>24</td>\n",
       "      <td>4</td>\n",
       "      <td>3</td>\n",
       "      <td>0</td>\n",
       "      <td>1</td>\n",
       "      <td>5</td>\n",
       "      <td>1</td>\n",
       "      <td>NaN</td>\n",
       "      <td>NaN</td>\n",
       "      <td>2</td>\n",
       "      <td>Limited</td>\n",
       "    </tr>\n",
       "    <tr>\n",
       "      <th>3</th>\n",
       "      <td>4</td>\n",
       "      <td>Male</td>\n",
       "      <td>82</td>\n",
       "      <td>3/30/09</td>\n",
       "      <td>9/3/19</td>\n",
       "      <td>125</td>\n",
       "      <td>alive</td>\n",
       "      <td>0.0</td>\n",
       "      <td>7</td>\n",
       "      <td>0</td>\n",
       "      <td>2</td>\n",
       "      <td>1</td>\n",
       "      <td>1</td>\n",
       "      <td>2</td>\n",
       "      <td>1</td>\n",
       "      <td>NaN</td>\n",
       "      <td>NaN</td>\n",
       "      <td>1</td>\n",
       "      <td>Limited</td>\n",
       "    </tr>\n",
       "    <tr>\n",
       "      <th>4</th>\n",
       "      <td>5</td>\n",
       "      <td>Male</td>\n",
       "      <td>73</td>\n",
       "      <td>5/1/09</td>\n",
       "      <td>2/12/10</td>\n",
       "      <td>9</td>\n",
       "      <td>alive</td>\n",
       "      <td>0.0</td>\n",
       "      <td>9</td>\n",
       "      <td>0</td>\n",
       "      <td>3</td>\n",
       "      <td>1</td>\n",
       "      <td>1</td>\n",
       "      <td>2</td>\n",
       "      <td>1</td>\n",
       "      <td>NaN</td>\n",
       "      <td>NaN</td>\n",
       "      <td>1</td>\n",
       "      <td>Limited</td>\n",
       "    </tr>\n",
       "  </tbody>\n",
       "</table>\n",
       "</div>"
      ],
      "text/plain": [
       "   Case Number     Sex  Age at bx Date of Cystectomy Last F/U date  F/U mos  \\\n",
       "0            1    Male         68             3/3/09       8/13/19      125   \n",
       "1            2  Female         80            1/30/09        1/2/13       47   \n",
       "2            3  Female         73            3/24/09        9/9/11       29   \n",
       "3            4    Male         82            3/30/09        9/3/19      125   \n",
       "4            5    Male         73             5/1/09       2/12/10        9   \n",
       "\n",
       "  alive/dead  AWD?  # LNs examined  # LNs +  # LN specimens  Male  alive  \\\n",
       "0      alive   0.0              18        0               3     1      1   \n",
       "1      alive   0.0              13        0               4     0      1   \n",
       "2      alive   1.0              24        4               3     0      1   \n",
       "3      alive   0.0               7        0               2     1      1   \n",
       "4      alive   0.0               9        0               3     1      1   \n",
       "\n",
       "  binned_LNs_examined  Extent of LND Other/Notes/Complications Flag  \\\n",
       "0                   4              1                       NaN  NaN   \n",
       "1                   3              2                       NaN  NaN   \n",
       "2                   5              1                       NaN  NaN   \n",
       "3                   2              1                       NaN  NaN   \n",
       "4                   2              1                       NaN  NaN   \n",
       "\n",
       "   alive_awd Extent of LND Description  \n",
       "0          1                   Limited  \n",
       "1          1                  Extended  \n",
       "2          2                   Limited  \n",
       "3          1                   Limited  \n",
       "4          1                   Limited  "
      ]
     },
     "execution_count": 278,
     "metadata": {},
     "output_type": "execute_result"
    }
   ],
   "source": [
    "df.head()"
   ]
  },
  {
   "cell_type": "code",
   "execution_count": 279,
   "metadata": {
    "scrolled": true
   },
   "outputs": [
    {
     "data": {
      "text/plain": [
       "Male      0.676329\n",
       "Female    0.323671\n",
       "Name: Sex, dtype: float64"
      ]
     },
     "execution_count": 279,
     "metadata": {},
     "output_type": "execute_result"
    }
   ],
   "source": [
    "#Percent of male vs female patients\n",
    "df['Sex'].value_counts(normalize=True)"
   ]
  },
  {
   "cell_type": "code",
   "execution_count": 280,
   "metadata": {},
   "outputs": [
    {
     "data": {
      "text/plain": [
       "alive    183\n",
       "dead      24\n",
       "Name: alive/dead, dtype: int64"
      ]
     },
     "execution_count": 280,
     "metadata": {},
     "output_type": "execute_result"
    }
   ],
   "source": [
    "df['alive/dead'].value_counts()"
   ]
  },
  {
   "cell_type": "code",
   "execution_count": 281,
   "metadata": {},
   "outputs": [
    {
     "data": {
      "text/plain": [
       "1    127\n",
       "2     56\n",
       "0     24\n",
       "Name: alive_awd, dtype: int64"
      ]
     },
     "execution_count": 281,
     "metadata": {},
     "output_type": "execute_result"
    }
   ],
   "source": [
    "df['alive_awd'].value_counts()"
   ]
  },
  {
   "cell_type": "code",
   "execution_count": 282,
   "metadata": {},
   "outputs": [
    {
     "data": {
      "text/plain": [
       "0     0.748792\n",
       "1     0.082126\n",
       "3     0.043478\n",
       "2     0.038647\n",
       "18    0.014493\n",
       "5     0.014493\n",
       "4     0.014493\n",
       "28    0.004831\n",
       "23    0.004831\n",
       "19    0.004831\n",
       "16    0.004831\n",
       "13    0.004831\n",
       "11    0.004831\n",
       "10    0.004831\n",
       "9     0.004831\n",
       "6     0.004831\n",
       "Name: # LNs +, dtype: float64"
      ]
     },
     "execution_count": 282,
     "metadata": {},
     "output_type": "execute_result"
    }
   ],
   "source": [
    "df['# LNs +'].value_counts(normalize=True)\n",
    "#14% positive rate"
   ]
  },
  {
   "cell_type": "code",
   "execution_count": 283,
   "metadata": {},
   "outputs": [
    {
     "data": {
      "text/plain": [
       "(52, 155)"
      ]
     },
     "execution_count": 283,
     "metadata": {},
     "output_type": "execute_result"
    }
   ],
   "source": [
    "df['Case Number'][df['# LNs +']>0].count(),df['Case Number'][df['# LNs +']==0].count()\n",
    "#52 were positive, 155 were 0"
   ]
  },
  {
   "cell_type": "code",
   "execution_count": 284,
   "metadata": {},
   "outputs": [
    {
     "data": {
      "text/plain": [
       "191"
      ]
     },
     "execution_count": 284,
     "metadata": {},
     "output_type": "execute_result"
    }
   ],
   "source": [
    "df['Flag'].isnull().sum()"
   ]
  },
  {
   "cell_type": "code",
   "execution_count": 285,
   "metadata": {},
   "outputs": [],
   "source": [
    "#Filter for \n",
    "#df[df['Flag'] == 'R']"
   ]
  },
  {
   "cell_type": "code",
   "execution_count": 286,
   "metadata": {},
   "outputs": [
    {
     "data": {
      "text/plain": [
       "count    207.000000\n",
       "mean      22.932367\n",
       "std       14.566395\n",
       "min        0.000000\n",
       "25%       13.000000\n",
       "50%       20.000000\n",
       "75%       28.000000\n",
       "max       75.000000\n",
       "Name: # LNs examined, dtype: float64"
      ]
     },
     "execution_count": 286,
     "metadata": {},
     "output_type": "execute_result"
    }
   ],
   "source": [
    "df['# LNs examined'].describe()"
   ]
  },
  {
   "cell_type": "code",
   "execution_count": 287,
   "metadata": {
    "scrolled": true
   },
   "outputs": [
    {
     "data": {
      "image/png": "[encoded data removed]",
      "text/plain": [
       "<Figure size 432x288 with 1 Axes>"
      ]
     },
     "metadata": {
      "needs_background": "light"
     },
     "output_type": "display_data"
    }
   ],
   "source": [
    "plt.hist(df['# LNs examined'],bins=14);"
   ]
  },
  {
   "cell_type": "code",
   "execution_count": 288,
   "metadata": {
    "scrolled": true
   },
   "outputs": [
    {
     "data": {
      "text/plain": [
       "3     45\n",
       "4     37\n",
       "5     34\n",
       "6     18\n",
       "2     13\n",
       "7     11\n",
       "11    10\n",
       "10    10\n",
       "8      9\n",
       "1      7\n",
       "9      6\n",
       "Name: binned_LNs_examined, dtype: int64"
      ]
     },
     "execution_count": 288,
     "metadata": {},
     "output_type": "execute_result"
    }
   ],
   "source": [
    "df['binned_LNs_examined'].value_counts()\n",
    "#now bins are more uniform, approximately like the histogram above"
   ]
  },
  {
   "cell_type": "code",
   "execution_count": null,
   "metadata": {},
   "outputs": [],
   "source": []
  },
  {
   "cell_type": "markdown",
   "metadata": {},
   "source": [
    "## II. Extent of LNDs \n",
    "### (A) Extent of LNDs metrics"
   ]
  },
  {
   "cell_type": "markdown",
   "metadata": {},
   "source": [
    "**1a. Group by Extent of LND - Average**"
   ]
  },
  {
   "cell_type": "code",
   "execution_count": 289,
   "metadata": {},
   "outputs": [],
   "source": [
    "df_count = df.groupby('Extent of LND').count()\n",
    "df_count = df_count['Case Number']"
   ]
  },
  {
   "cell_type": "code",
   "execution_count": 290,
   "metadata": {},
   "outputs": [
    {
     "data": {
      "text/html": [
       "<div>\n",
       "<style scoped>\n",
       "    .dataframe tbody tr th:only-of-type {\n",
       "        vertical-align: middle;\n",
       "    }\n",
       "\n",
       "    .dataframe tbody tr th {\n",
       "        vertical-align: top;\n",
       "    }\n",
       "\n",
       "    .dataframe thead th {\n",
       "        text-align: right;\n",
       "    }\n",
       "</style>\n",
       "<table border=\"1\" class=\"dataframe\">\n",
       "  <thead>\n",
       "    <tr style=\"text-align: right;\">\n",
       "      <th></th>\n",
       "      <th># LNs examined</th>\n",
       "      <th># LNs +</th>\n",
       "      <th># LN specimens</th>\n",
       "      <th>Count</th>\n",
       "    </tr>\n",
       "    <tr>\n",
       "      <th>Extent of LND</th>\n",
       "      <th></th>\n",
       "      <th></th>\n",
       "      <th></th>\n",
       "      <th></th>\n",
       "    </tr>\n",
       "  </thead>\n",
       "  <tbody>\n",
       "    <tr>\n",
       "      <th>0</th>\n",
       "      <td>0.833333</td>\n",
       "      <td>0.000000</td>\n",
       "      <td>0.000000</td>\n",
       "      <td>6</td>\n",
       "    </tr>\n",
       "    <tr>\n",
       "      <th>1</th>\n",
       "      <td>16.670103</td>\n",
       "      <td>0.855670</td>\n",
       "      <td>2.742268</td>\n",
       "      <td>97</td>\n",
       "    </tr>\n",
       "    <tr>\n",
       "      <th>2</th>\n",
       "      <td>23.074627</td>\n",
       "      <td>1.388060</td>\n",
       "      <td>6.044776</td>\n",
       "      <td>67</td>\n",
       "    </tr>\n",
       "    <tr>\n",
       "      <th>3</th>\n",
       "      <td>42.675676</td>\n",
       "      <td>2.702703</td>\n",
       "      <td>12.081081</td>\n",
       "      <td>37</td>\n",
       "    </tr>\n",
       "  </tbody>\n",
       "</table>\n",
       "</div>"
      ],
      "text/plain": [
       "               # LNs examined   # LNs +  # LN specimens  Count\n",
       "Extent of LND                                                 \n",
       "0                    0.833333  0.000000        0.000000      6\n",
       "1                   16.670103  0.855670        2.742268     97\n",
       "2                   23.074627  1.388060        6.044776     67\n",
       "3                   42.675676  2.702703       12.081081     37"
      ]
     },
     "execution_count": 290,
     "metadata": {},
     "output_type": "execute_result"
    }
   ],
   "source": [
    "#Mean by Extent of LND\n",
    "df_mean_data = df.groupby('Extent of LND').mean()\n",
    "df_mean = pd.DataFrame(df_mean_data)\n",
    "df_mean = df_mean[['# LNs examined','# LNs +','# LN specimens']]\n",
    "df_mean['Count'] = df_count\n",
    "#output sent to csv\n",
    "df_mean.to_csv('./data/output_data/Extent_of_LND_mean.csv')\n",
    "df_mean"
   ]
  },
  {
   "cell_type": "markdown",
   "metadata": {},
   "source": [
    "**1b. Group by Extent of LND - Sum**"
   ]
  },
  {
   "cell_type": "code",
   "execution_count": 291,
   "metadata": {},
   "outputs": [],
   "source": [
    "df_count = df.groupby('Extent of LND').count()\n",
    "df_count = df_count['Case Number']"
   ]
  },
  {
   "cell_type": "code",
   "execution_count": 292,
   "metadata": {},
   "outputs": [
    {
     "data": {
      "text/html": [
       "<div>\n",
       "<style scoped>\n",
       "    .dataframe tbody tr th:only-of-type {\n",
       "        vertical-align: middle;\n",
       "    }\n",
       "\n",
       "    .dataframe tbody tr th {\n",
       "        vertical-align: top;\n",
       "    }\n",
       "\n",
       "    .dataframe thead th {\n",
       "        text-align: right;\n",
       "    }\n",
       "</style>\n",
       "<table border=\"1\" class=\"dataframe\">\n",
       "  <thead>\n",
       "    <tr style=\"text-align: right;\">\n",
       "      <th></th>\n",
       "      <th># LNs examined</th>\n",
       "      <th># LNs +</th>\n",
       "      <th># LN specimens</th>\n",
       "      <th>Count</th>\n",
       "    </tr>\n",
       "    <tr>\n",
       "      <th>Extent of LND</th>\n",
       "      <th></th>\n",
       "      <th></th>\n",
       "      <th></th>\n",
       "      <th></th>\n",
       "    </tr>\n",
       "  </thead>\n",
       "  <tbody>\n",
       "    <tr>\n",
       "      <th>0</th>\n",
       "      <td>5</td>\n",
       "      <td>0</td>\n",
       "      <td>0</td>\n",
       "      <td>6</td>\n",
       "    </tr>\n",
       "    <tr>\n",
       "      <th>1</th>\n",
       "      <td>1617</td>\n",
       "      <td>83</td>\n",
       "      <td>266</td>\n",
       "      <td>97</td>\n",
       "    </tr>\n",
       "    <tr>\n",
       "      <th>2</th>\n",
       "      <td>1546</td>\n",
       "      <td>93</td>\n",
       "      <td>405</td>\n",
       "      <td>67</td>\n",
       "    </tr>\n",
       "    <tr>\n",
       "      <th>3</th>\n",
       "      <td>1579</td>\n",
       "      <td>100</td>\n",
       "      <td>447</td>\n",
       "      <td>37</td>\n",
       "    </tr>\n",
       "  </tbody>\n",
       "</table>\n",
       "</div>"
      ],
      "text/plain": [
       "               # LNs examined  # LNs +  # LN specimens  Count\n",
       "Extent of LND                                                \n",
       "0                           5        0               0      6\n",
       "1                        1617       83             266     97\n",
       "2                        1546       93             405     67\n",
       "3                        1579      100             447     37"
      ]
     },
     "execution_count": 292,
     "metadata": {},
     "output_type": "execute_result"
    }
   ],
   "source": [
    "#Mean by Extent of LND\n",
    "df_sum_data = df.groupby('Extent of LND').sum()\n",
    "df_sum = pd.DataFrame(df_sum_data)\n",
    "df_sum = df_sum[['# LNs examined','# LNs +','# LN specimens']]\n",
    "df_sum['Count'] = df_count\n",
    "#output sent to csv\n",
    "df_sum.to_csv('./data/output_data/Extent_of_LND_sum.csv')\n",
    "df_sum"
   ]
  },
  {
   "cell_type": "markdown",
   "metadata": {},
   "source": [
    "**2. Group by Extent of LND - positive only**"
   ]
  },
  {
   "cell_type": "code",
   "execution_count": 264,
   "metadata": {},
   "outputs": [
    {
     "data": {
      "text/plain": [
       "(52, 19)"
      ]
     },
     "execution_count": 264,
     "metadata": {},
     "output_type": "execute_result"
    }
   ],
   "source": [
    "df_pos = df[df['# LNs +']>0]\n",
    "df_pos.shape"
   ]
  },
  {
   "cell_type": "code",
   "execution_count": 265,
   "metadata": {},
   "outputs": [
    {
     "data": {
      "text/html": [
       "<div>\n",
       "<style scoped>\n",
       "    .dataframe tbody tr th:only-of-type {\n",
       "        vertical-align: middle;\n",
       "    }\n",
       "\n",
       "    .dataframe tbody tr th {\n",
       "        vertical-align: top;\n",
       "    }\n",
       "\n",
       "    .dataframe thead th {\n",
       "        text-align: right;\n",
       "    }\n",
       "</style>\n",
       "<table border=\"1\" class=\"dataframe\">\n",
       "  <thead>\n",
       "    <tr style=\"text-align: right;\">\n",
       "      <th></th>\n",
       "      <th># LNs examined</th>\n",
       "      <th># LNs +</th>\n",
       "      <th># LN specimens</th>\n",
       "      <th>Count</th>\n",
       "    </tr>\n",
       "    <tr>\n",
       "      <th>Extent of LND</th>\n",
       "      <th></th>\n",
       "      <th></th>\n",
       "      <th></th>\n",
       "      <th></th>\n",
       "    </tr>\n",
       "  </thead>\n",
       "  <tbody>\n",
       "    <tr>\n",
       "      <th>1</th>\n",
       "      <td>17.333333</td>\n",
       "      <td>3.458333</td>\n",
       "      <td>2.333333</td>\n",
       "      <td>24</td>\n",
       "    </tr>\n",
       "    <tr>\n",
       "      <th>2</th>\n",
       "      <td>23.187500</td>\n",
       "      <td>5.812500</td>\n",
       "      <td>6.250000</td>\n",
       "      <td>16</td>\n",
       "    </tr>\n",
       "    <tr>\n",
       "      <th>3</th>\n",
       "      <td>41.416667</td>\n",
       "      <td>8.333333</td>\n",
       "      <td>10.416667</td>\n",
       "      <td>12</td>\n",
       "    </tr>\n",
       "  </tbody>\n",
       "</table>\n",
       "</div>"
      ],
      "text/plain": [
       "               # LNs examined   # LNs +  # LN specimens  Count\n",
       "Extent of LND                                                 \n",
       "1                   17.333333  3.458333        2.333333     24\n",
       "2                   23.187500  5.812500        6.250000     16\n",
       "3                   41.416667  8.333333       10.416667     12"
      ]
     },
     "execution_count": 265,
     "metadata": {},
     "output_type": "execute_result"
    }
   ],
   "source": [
    "#Mean by Extent of LND\n",
    "df_count = df_pos.groupby('Extent of LND').count()\n",
    "df_count = df_count['Case Number']\n",
    "\n",
    "df_mean_data = df_pos.groupby('Extent of LND').mean()\n",
    "df_mean = pd.DataFrame(df_mean_data)\n",
    "df_mean = df_mean[['# LNs examined','# LNs +','# LN specimens']]\n",
    "df_mean['Count'] = df_count\n",
    "#output sent to csv\n",
    "df_mean.to_csv('./data/output_data/Extent_of_LND_mean_pos_only.csv')\n",
    "df_mean"
   ]
  },
  {
   "cell_type": "markdown",
   "metadata": {},
   "source": [
    "**3. Group by Extent of LND and outcome**"
   ]
  },
  {
   "cell_type": "code",
   "execution_count": 266,
   "metadata": {},
   "outputs": [],
   "source": [
    "df_count = df.groupby(['Extent of LND','alive_awd']).count()\n",
    "df_count = df_count['Case Number']"
   ]
  },
  {
   "cell_type": "code",
   "execution_count": 267,
   "metadata": {},
   "outputs": [
    {
     "data": {
      "text/html": [
       "<div>\n",
       "<style scoped>\n",
       "    .dataframe tbody tr th:only-of-type {\n",
       "        vertical-align: middle;\n",
       "    }\n",
       "\n",
       "    .dataframe tbody tr th {\n",
       "        vertical-align: top;\n",
       "    }\n",
       "\n",
       "    .dataframe thead th {\n",
       "        text-align: right;\n",
       "    }\n",
       "</style>\n",
       "<table border=\"1\" class=\"dataframe\">\n",
       "  <thead>\n",
       "    <tr style=\"text-align: right;\">\n",
       "      <th></th>\n",
       "      <th></th>\n",
       "      <th># LNs examined</th>\n",
       "      <th># LNs +</th>\n",
       "      <th># LN specimens</th>\n",
       "      <th>Count</th>\n",
       "    </tr>\n",
       "    <tr>\n",
       "      <th>Extent of LND</th>\n",
       "      <th>alive_awd</th>\n",
       "      <th></th>\n",
       "      <th></th>\n",
       "      <th></th>\n",
       "      <th></th>\n",
       "    </tr>\n",
       "  </thead>\n",
       "  <tbody>\n",
       "    <tr>\n",
       "      <th rowspan=\"2\" valign=\"top\">0</th>\n",
       "      <th>1</th>\n",
       "      <td>1.000000</td>\n",
       "      <td>0.000000</td>\n",
       "      <td>0.000000</td>\n",
       "      <td>5</td>\n",
       "    </tr>\n",
       "    <tr>\n",
       "      <th>2</th>\n",
       "      <td>0.000000</td>\n",
       "      <td>0.000000</td>\n",
       "      <td>0.000000</td>\n",
       "      <td>1</td>\n",
       "    </tr>\n",
       "    <tr>\n",
       "      <th rowspan=\"3\" valign=\"top\">1</th>\n",
       "      <th>0</th>\n",
       "      <td>18.100000</td>\n",
       "      <td>2.100000</td>\n",
       "      <td>3.500000</td>\n",
       "      <td>10</td>\n",
       "    </tr>\n",
       "    <tr>\n",
       "      <th>1</th>\n",
       "      <td>15.746032</td>\n",
       "      <td>0.190476</td>\n",
       "      <td>2.730159</td>\n",
       "      <td>63</td>\n",
       "    </tr>\n",
       "    <tr>\n",
       "      <th>2</th>\n",
       "      <td>18.500000</td>\n",
       "      <td>2.083333</td>\n",
       "      <td>2.458333</td>\n",
       "      <td>24</td>\n",
       "    </tr>\n",
       "    <tr>\n",
       "      <th rowspan=\"3\" valign=\"top\">2</th>\n",
       "      <th>0</th>\n",
       "      <td>18.250000</td>\n",
       "      <td>0.500000</td>\n",
       "      <td>5.333333</td>\n",
       "      <td>12</td>\n",
       "    </tr>\n",
       "    <tr>\n",
       "      <th>1</th>\n",
       "      <td>24.571429</td>\n",
       "      <td>1.085714</td>\n",
       "      <td>5.971429</td>\n",
       "      <td>35</td>\n",
       "    </tr>\n",
       "    <tr>\n",
       "      <th>2</th>\n",
       "      <td>23.350000</td>\n",
       "      <td>2.450000</td>\n",
       "      <td>6.600000</td>\n",
       "      <td>20</td>\n",
       "    </tr>\n",
       "    <tr>\n",
       "      <th rowspan=\"3\" valign=\"top\">3</th>\n",
       "      <th>0</th>\n",
       "      <td>40.000000</td>\n",
       "      <td>5.000000</td>\n",
       "      <td>9.000000</td>\n",
       "      <td>2</td>\n",
       "    </tr>\n",
       "    <tr>\n",
       "      <th>1</th>\n",
       "      <td>47.041667</td>\n",
       "      <td>2.708333</td>\n",
       "      <td>13.041667</td>\n",
       "      <td>24</td>\n",
       "    </tr>\n",
       "    <tr>\n",
       "      <th>2</th>\n",
       "      <td>33.636364</td>\n",
       "      <td>2.272727</td>\n",
       "      <td>10.545455</td>\n",
       "      <td>11</td>\n",
       "    </tr>\n",
       "  </tbody>\n",
       "</table>\n",
       "</div>"
      ],
      "text/plain": [
       "                         # LNs examined   # LNs +  # LN specimens  Count\n",
       "Extent of LND alive_awd                                                 \n",
       "0             1                1.000000  0.000000        0.000000      5\n",
       "              2                0.000000  0.000000        0.000000      1\n",
       "1             0               18.100000  2.100000        3.500000     10\n",
       "              1               15.746032  0.190476        2.730159     63\n",
       "              2               18.500000  2.083333        2.458333     24\n",
       "2             0               18.250000  0.500000        5.333333     12\n",
       "              1               24.571429  1.085714        5.971429     35\n",
       "              2               23.350000  2.450000        6.600000     20\n",
       "3             0               40.000000  5.000000        9.000000      2\n",
       "              1               47.041667  2.708333       13.041667     24\n",
       "              2               33.636364  2.272727       10.545455     11"
      ]
     },
     "execution_count": 267,
     "metadata": {},
     "output_type": "execute_result"
    }
   ],
   "source": [
    "df_mean_data = df.groupby(['Extent of LND','alive_awd']).mean()\n",
    "df_mean = pd.DataFrame(df_mean_data)\n",
    "df_mean = df_mean[['# LNs examined','# LNs +','# LN specimens']]\n",
    "df_mean['Count'] = df_count\n",
    "df_mean.to_csv('./data/output_data/Extent_of_LND_&_alive-awd_mean.csv')\n",
    "df_mean"
   ]
  },
  {
   "cell_type": "markdown",
   "metadata": {},
   "source": [
    "**4. Group by Extent of LND and outcome - positive only**"
   ]
  },
  {
   "cell_type": "code",
   "execution_count": 268,
   "metadata": {},
   "outputs": [],
   "source": [
    "df_count = df_pos.groupby(['Extent of LND','alive_awd']).count()\n",
    "df_count = df_count['Case Number']"
   ]
  },
  {
   "cell_type": "code",
   "execution_count": 269,
   "metadata": {},
   "outputs": [
    {
     "data": {
      "text/html": [
       "<div>\n",
       "<style scoped>\n",
       "    .dataframe tbody tr th:only-of-type {\n",
       "        vertical-align: middle;\n",
       "    }\n",
       "\n",
       "    .dataframe tbody tr th {\n",
       "        vertical-align: top;\n",
       "    }\n",
       "\n",
       "    .dataframe thead th {\n",
       "        text-align: right;\n",
       "    }\n",
       "</style>\n",
       "<table border=\"1\" class=\"dataframe\">\n",
       "  <thead>\n",
       "    <tr style=\"text-align: right;\">\n",
       "      <th></th>\n",
       "      <th></th>\n",
       "      <th># LNs examined</th>\n",
       "      <th># LNs +</th>\n",
       "      <th># LN specimens</th>\n",
       "      <th>Count</th>\n",
       "    </tr>\n",
       "    <tr>\n",
       "      <th>Extent of LND</th>\n",
       "      <th>alive_awd</th>\n",
       "      <th></th>\n",
       "      <th></th>\n",
       "      <th></th>\n",
       "      <th></th>\n",
       "    </tr>\n",
       "  </thead>\n",
       "  <tbody>\n",
       "    <tr>\n",
       "      <th rowspan=\"3\" valign=\"top\">1</th>\n",
       "      <th>0</th>\n",
       "      <td>14.250000</td>\n",
       "      <td>5.250000</td>\n",
       "      <td>2.500000</td>\n",
       "      <td>4</td>\n",
       "    </tr>\n",
       "    <tr>\n",
       "      <th>1</th>\n",
       "      <td>13.250000</td>\n",
       "      <td>1.500000</td>\n",
       "      <td>1.875000</td>\n",
       "      <td>8</td>\n",
       "    </tr>\n",
       "    <tr>\n",
       "      <th>2</th>\n",
       "      <td>21.083333</td>\n",
       "      <td>4.166667</td>\n",
       "      <td>2.583333</td>\n",
       "      <td>12</td>\n",
       "    </tr>\n",
       "    <tr>\n",
       "      <th rowspan=\"3\" valign=\"top\">2</th>\n",
       "      <th>0</th>\n",
       "      <td>16.000000</td>\n",
       "      <td>3.000000</td>\n",
       "      <td>4.000000</td>\n",
       "      <td>2</td>\n",
       "    </tr>\n",
       "    <tr>\n",
       "      <th>1</th>\n",
       "      <td>24.500000</td>\n",
       "      <td>6.333333</td>\n",
       "      <td>6.333333</td>\n",
       "      <td>6</td>\n",
       "    </tr>\n",
       "    <tr>\n",
       "      <th>2</th>\n",
       "      <td>24.000000</td>\n",
       "      <td>6.125000</td>\n",
       "      <td>6.750000</td>\n",
       "      <td>8</td>\n",
       "    </tr>\n",
       "    <tr>\n",
       "      <th rowspan=\"3\" valign=\"top\">3</th>\n",
       "      <th>0</th>\n",
       "      <td>40.000000</td>\n",
       "      <td>5.000000</td>\n",
       "      <td>9.000000</td>\n",
       "      <td>2</td>\n",
       "    </tr>\n",
       "    <tr>\n",
       "      <th>1</th>\n",
       "      <td>47.800000</td>\n",
       "      <td>13.000000</td>\n",
       "      <td>12.800000</td>\n",
       "      <td>5</td>\n",
       "    </tr>\n",
       "    <tr>\n",
       "      <th>2</th>\n",
       "      <td>35.600000</td>\n",
       "      <td>5.000000</td>\n",
       "      <td>8.600000</td>\n",
       "      <td>5</td>\n",
       "    </tr>\n",
       "  </tbody>\n",
       "</table>\n",
       "</div>"
      ],
      "text/plain": [
       "                         # LNs examined    # LNs +  # LN specimens  Count\n",
       "Extent of LND alive_awd                                                  \n",
       "1             0               14.250000   5.250000        2.500000      4\n",
       "              1               13.250000   1.500000        1.875000      8\n",
       "              2               21.083333   4.166667        2.583333     12\n",
       "2             0               16.000000   3.000000        4.000000      2\n",
       "              1               24.500000   6.333333        6.333333      6\n",
       "              2               24.000000   6.125000        6.750000      8\n",
       "3             0               40.000000   5.000000        9.000000      2\n",
       "              1               47.800000  13.000000       12.800000      5\n",
       "              2               35.600000   5.000000        8.600000      5"
      ]
     },
     "execution_count": 269,
     "metadata": {},
     "output_type": "execute_result"
    }
   ],
   "source": [
    "df_mean_data = df_pos.groupby(['Extent of LND','alive_awd']).mean()\n",
    "df_mean = pd.DataFrame(df_mean_data)\n",
    "df_mean = df_mean[['# LNs examined','# LNs +','# LN specimens']]\n",
    "df_mean['Count'] = df_count\n",
    "df_mean.to_csv('./data/output_data/Extent_of_LND_&_alive-awd_mean_pos_only.csv')\n",
    "df_mean"
   ]
  },
  {
   "cell_type": "markdown",
   "metadata": {},
   "source": [
    "**5. Group by all fields**"
   ]
  },
  {
   "cell_type": "code",
   "execution_count": 293,
   "metadata": {},
   "outputs": [],
   "source": [
    "df_count = df.groupby(['Extent of LND','alive_awd','# LNs examined','# LNs +','# LN specimens','Age at bx']).count()\n",
    "df_count = df_count['Case Number']\n",
    "\n",
    "df_mean_data = df.groupby(['Extent of LND','alive_awd','# LNs examined','# LNs +','# LN specimens','Age at bx']).mean()\n",
    "df_mean = pd.DataFrame(df_mean_data)\n",
    "#df_mean = df_mean[['# LN specimens']]\n",
    "df_mean['Count'] = df_count\n",
    "#df_mean = df_mean[['Count']]\n",
    "\n",
    "df_mean.to_csv('./data/output_data/Extent_of_LND_all_data_mean.csv')\n",
    "#df_mean"
   ]
  },
  {
   "cell_type": "markdown",
   "metadata": {},
   "source": [
    "### (B) Extent of LND Viz"
   ]
  },
  {
   "cell_type": "code",
   "execution_count": 232,
   "metadata": {
    "scrolled": true
   },
   "outputs": [
    {
     "data": {
      "image/png": "[encoded data removed]",
      "text/plain": [
       "<Figure size 432x288 with 1 Axes>"
      ]
     },
     "metadata": {
      "needs_background": "light"
     },
     "output_type": "display_data"
    }
   ],
   "source": [
    "plt.scatter(df['Extent of LND'],df['# LN specimens'])\n",
    "plt.xlabel(\"Extent of LND\")\n",
    "plt.xticks([0,1,2,3])\n",
    "plt.ylabel(\"Number of LN specimens\");"
   ]
  },
  {
   "cell_type": "code",
   "execution_count": 233,
   "metadata": {},
   "outputs": [
    {
     "data": {
      "image/png": "[encoded data removed]",
      "text/plain": [
       "<Figure size 432x288 with 1 Axes>"
      ]
     },
     "metadata": {
      "needs_background": "light"
     },
     "output_type": "display_data"
    }
   ],
   "source": [
    "plt.scatter(df['Extent of LND'],df['# LNs +'])\n",
    "plt.xlabel(\"Extent of LND\")\n",
    "plt.xticks([0,1,2,3])\n",
    "plt.ylabel(\"Number of LNs Positive\");"
   ]
  },
  {
   "cell_type": "markdown",
   "metadata": {},
   "source": [
    "## III. Number of LNs Examined \n",
    "### (A) metrics\n"
   ]
  },
  {
   "cell_type": "markdown",
   "metadata": {},
   "source": [
    "**1a. Group by Examined bins - Average**"
   ]
  },
  {
   "cell_type": "code",
   "execution_count": 300,
   "metadata": {},
   "outputs": [],
   "source": [
    "df_count = df.groupby('binned_LNs_examined').count()\n",
    "df_count = df_count['Case Number']"
   ]
  },
  {
   "cell_type": "code",
   "execution_count": 301,
   "metadata": {},
   "outputs": [
    {
     "data": {
      "text/html": [
       "<div>\n",
       "<style scoped>\n",
       "    .dataframe tbody tr th:only-of-type {\n",
       "        vertical-align: middle;\n",
       "    }\n",
       "\n",
       "    .dataframe tbody tr th {\n",
       "        vertical-align: top;\n",
       "    }\n",
       "\n",
       "    .dataframe thead th {\n",
       "        text-align: right;\n",
       "    }\n",
       "</style>\n",
       "<table border=\"1\" class=\"dataframe\">\n",
       "  <thead>\n",
       "    <tr style=\"text-align: right;\">\n",
       "      <th></th>\n",
       "      <th># LNs examined</th>\n",
       "      <th># LNs +</th>\n",
       "      <th># LN specimens</th>\n",
       "      <th>Count</th>\n",
       "    </tr>\n",
       "    <tr>\n",
       "      <th>binned_LNs_examined</th>\n",
       "      <th></th>\n",
       "      <th></th>\n",
       "      <th></th>\n",
       "      <th></th>\n",
       "    </tr>\n",
       "  </thead>\n",
       "  <tbody>\n",
       "    <tr>\n",
       "      <th>1</th>\n",
       "      <td>4.000000</td>\n",
       "      <td>0.714286</td>\n",
       "      <td>1.428571</td>\n",
       "      <td>7</td>\n",
       "    </tr>\n",
       "    <tr>\n",
       "      <th>2</th>\n",
       "      <td>8.538462</td>\n",
       "      <td>0.307692</td>\n",
       "      <td>3.461538</td>\n",
       "      <td>13</td>\n",
       "    </tr>\n",
       "    <tr>\n",
       "      <th>3</th>\n",
       "      <td>13.066667</td>\n",
       "      <td>0.422222</td>\n",
       "      <td>3.577778</td>\n",
       "      <td>45</td>\n",
       "    </tr>\n",
       "    <tr>\n",
       "      <th>4</th>\n",
       "      <td>18.189189</td>\n",
       "      <td>1.837838</td>\n",
       "      <td>4.486486</td>\n",
       "      <td>37</td>\n",
       "    </tr>\n",
       "    <tr>\n",
       "      <th>5</th>\n",
       "      <td>22.647059</td>\n",
       "      <td>1.411765</td>\n",
       "      <td>4.352941</td>\n",
       "      <td>34</td>\n",
       "    </tr>\n",
       "    <tr>\n",
       "      <th>6</th>\n",
       "      <td>27.444444</td>\n",
       "      <td>0.500000</td>\n",
       "      <td>5.944444</td>\n",
       "      <td>18</td>\n",
       "    </tr>\n",
       "    <tr>\n",
       "      <th>7</th>\n",
       "      <td>33.272727</td>\n",
       "      <td>4.454545</td>\n",
       "      <td>7.090909</td>\n",
       "      <td>11</td>\n",
       "    </tr>\n",
       "    <tr>\n",
       "      <th>8</th>\n",
       "      <td>38.888889</td>\n",
       "      <td>0.111111</td>\n",
       "      <td>8.111111</td>\n",
       "      <td>9</td>\n",
       "    </tr>\n",
       "    <tr>\n",
       "      <th>9</th>\n",
       "      <td>43.666667</td>\n",
       "      <td>3.000000</td>\n",
       "      <td>11.333333</td>\n",
       "      <td>6</td>\n",
       "    </tr>\n",
       "    <tr>\n",
       "      <th>10</th>\n",
       "      <td>47.600000</td>\n",
       "      <td>0.100000</td>\n",
       "      <td>11.700000</td>\n",
       "      <td>10</td>\n",
       "    </tr>\n",
       "    <tr>\n",
       "      <th>11</th>\n",
       "      <td>62.900000</td>\n",
       "      <td>5.400000</td>\n",
       "      <td>13.800000</td>\n",
       "      <td>10</td>\n",
       "    </tr>\n",
       "  </tbody>\n",
       "</table>\n",
       "</div>"
      ],
      "text/plain": [
       "                     # LNs examined   # LNs +  # LN specimens  Count\n",
       "binned_LNs_examined                                                 \n",
       "1                          4.000000  0.714286        1.428571      7\n",
       "2                          8.538462  0.307692        3.461538     13\n",
       "3                         13.066667  0.422222        3.577778     45\n",
       "4                         18.189189  1.837838        4.486486     37\n",
       "5                         22.647059  1.411765        4.352941     34\n",
       "6                         27.444444  0.500000        5.944444     18\n",
       "7                         33.272727  4.454545        7.090909     11\n",
       "8                         38.888889  0.111111        8.111111      9\n",
       "9                         43.666667  3.000000       11.333333      6\n",
       "10                        47.600000  0.100000       11.700000     10\n",
       "11                        62.900000  5.400000       13.800000     10"
      ]
     },
     "execution_count": 301,
     "metadata": {},
     "output_type": "execute_result"
    }
   ],
   "source": [
    "#Mean by Binned LNs Examined\n",
    "df_mean_data = df.groupby('binned_LNs_examined').mean()\n",
    "df_mean = pd.DataFrame(df_mean_data)\n",
    "df_mean = df_mean[['# LNs examined','# LNs +','# LN specimens']]\n",
    "df_mean['Count'] = df_count\n",
    "#output sent to csv\n",
    "df_mean.to_csv('./data/output_data/Examined_bins_mean.csv')\n",
    "df_mean"
   ]
  },
  {
   "cell_type": "markdown",
   "metadata": {},
   "source": [
    "**1b. Group by Examined bins - Sum**"
   ]
  },
  {
   "cell_type": "code",
   "execution_count": 302,
   "metadata": {},
   "outputs": [],
   "source": [
    "df_count = df.groupby('binned_LNs_examined').count()\n",
    "df_count = df_count['Case Number']"
   ]
  },
  {
   "cell_type": "code",
   "execution_count": 303,
   "metadata": {},
   "outputs": [
    {
     "data": {
      "text/html": [
       "<div>\n",
       "<style scoped>\n",
       "    .dataframe tbody tr th:only-of-type {\n",
       "        vertical-align: middle;\n",
       "    }\n",
       "\n",
       "    .dataframe tbody tr th {\n",
       "        vertical-align: top;\n",
       "    }\n",
       "\n",
       "    .dataframe thead th {\n",
       "        text-align: right;\n",
       "    }\n",
       "</style>\n",
       "<table border=\"1\" class=\"dataframe\">\n",
       "  <thead>\n",
       "    <tr style=\"text-align: right;\">\n",
       "      <th></th>\n",
       "      <th># LNs examined</th>\n",
       "      <th># LNs +</th>\n",
       "      <th># LN specimens</th>\n",
       "      <th>Count</th>\n",
       "    </tr>\n",
       "    <tr>\n",
       "      <th>binned_LNs_examined</th>\n",
       "      <th></th>\n",
       "      <th></th>\n",
       "      <th></th>\n",
       "      <th></th>\n",
       "    </tr>\n",
       "  </thead>\n",
       "  <tbody>\n",
       "    <tr>\n",
       "      <th>1</th>\n",
       "      <td>28</td>\n",
       "      <td>5</td>\n",
       "      <td>10</td>\n",
       "      <td>7</td>\n",
       "    </tr>\n",
       "    <tr>\n",
       "      <th>2</th>\n",
       "      <td>111</td>\n",
       "      <td>4</td>\n",
       "      <td>45</td>\n",
       "      <td>13</td>\n",
       "    </tr>\n",
       "    <tr>\n",
       "      <th>3</th>\n",
       "      <td>588</td>\n",
       "      <td>19</td>\n",
       "      <td>161</td>\n",
       "      <td>45</td>\n",
       "    </tr>\n",
       "    <tr>\n",
       "      <th>4</th>\n",
       "      <td>673</td>\n",
       "      <td>68</td>\n",
       "      <td>166</td>\n",
       "      <td>37</td>\n",
       "    </tr>\n",
       "    <tr>\n",
       "      <th>5</th>\n",
       "      <td>770</td>\n",
       "      <td>48</td>\n",
       "      <td>148</td>\n",
       "      <td>34</td>\n",
       "    </tr>\n",
       "    <tr>\n",
       "      <th>6</th>\n",
       "      <td>494</td>\n",
       "      <td>9</td>\n",
       "      <td>107</td>\n",
       "      <td>18</td>\n",
       "    </tr>\n",
       "    <tr>\n",
       "      <th>7</th>\n",
       "      <td>366</td>\n",
       "      <td>49</td>\n",
       "      <td>78</td>\n",
       "      <td>11</td>\n",
       "    </tr>\n",
       "    <tr>\n",
       "      <th>8</th>\n",
       "      <td>350</td>\n",
       "      <td>1</td>\n",
       "      <td>73</td>\n",
       "      <td>9</td>\n",
       "    </tr>\n",
       "    <tr>\n",
       "      <th>9</th>\n",
       "      <td>262</td>\n",
       "      <td>18</td>\n",
       "      <td>68</td>\n",
       "      <td>6</td>\n",
       "    </tr>\n",
       "    <tr>\n",
       "      <th>10</th>\n",
       "      <td>476</td>\n",
       "      <td>1</td>\n",
       "      <td>117</td>\n",
       "      <td>10</td>\n",
       "    </tr>\n",
       "    <tr>\n",
       "      <th>11</th>\n",
       "      <td>629</td>\n",
       "      <td>54</td>\n",
       "      <td>138</td>\n",
       "      <td>10</td>\n",
       "    </tr>\n",
       "  </tbody>\n",
       "</table>\n",
       "</div>"
      ],
      "text/plain": [
       "                     # LNs examined  # LNs +  # LN specimens  Count\n",
       "binned_LNs_examined                                                \n",
       "1                                28        5              10      7\n",
       "2                               111        4              45     13\n",
       "3                               588       19             161     45\n",
       "4                               673       68             166     37\n",
       "5                               770       48             148     34\n",
       "6                               494        9             107     18\n",
       "7                               366       49              78     11\n",
       "8                               350        1              73      9\n",
       "9                               262       18              68      6\n",
       "10                              476        1             117     10\n",
       "11                              629       54             138     10"
      ]
     },
     "execution_count": 303,
     "metadata": {},
     "output_type": "execute_result"
    }
   ],
   "source": [
    "#Mean by Examined Bins\n",
    "df_sum_data = df.groupby('binned_LNs_examined').sum()\n",
    "df_sum = pd.DataFrame(df_sum_data)\n",
    "df_sum = df_sum[['# LNs examined','# LNs +','# LN specimens']]\n",
    "df_sum['Count'] = df_count\n",
    "#output sent to csv\n",
    "df_sum.to_csv('./data/output_data/Examined_bins_sum.csv')\n",
    "df_sum"
   ]
  },
  {
   "cell_type": "markdown",
   "metadata": {},
   "source": [
    "**2. Group by Examined bins - positive only**"
   ]
  },
  {
   "cell_type": "code",
   "execution_count": 306,
   "metadata": {},
   "outputs": [
    {
     "data": {
      "text/plain": [
       "(52, 19)"
      ]
     },
     "execution_count": 306,
     "metadata": {},
     "output_type": "execute_result"
    }
   ],
   "source": [
    "df_pos = df[df['# LNs +']>0]\n",
    "df_pos.shape"
   ]
  },
  {
   "cell_type": "code",
   "execution_count": 307,
   "metadata": {},
   "outputs": [
    {
     "data": {
      "text/html": [
       "<div>\n",
       "<style scoped>\n",
       "    .dataframe tbody tr th:only-of-type {\n",
       "        vertical-align: middle;\n",
       "    }\n",
       "\n",
       "    .dataframe tbody tr th {\n",
       "        vertical-align: top;\n",
       "    }\n",
       "\n",
       "    .dataframe thead th {\n",
       "        text-align: right;\n",
       "    }\n",
       "</style>\n",
       "<table border=\"1\" class=\"dataframe\">\n",
       "  <thead>\n",
       "    <tr style=\"text-align: right;\">\n",
       "      <th></th>\n",
       "      <th># LNs examined</th>\n",
       "      <th># LNs +</th>\n",
       "      <th># LN specimens</th>\n",
       "      <th>Count</th>\n",
       "    </tr>\n",
       "    <tr>\n",
       "      <th>binned_LNs_examined</th>\n",
       "      <th></th>\n",
       "      <th></th>\n",
       "      <th></th>\n",
       "      <th></th>\n",
       "    </tr>\n",
       "  </thead>\n",
       "  <tbody>\n",
       "    <tr>\n",
       "      <th>1</th>\n",
       "      <td>4.333333</td>\n",
       "      <td>1.666667</td>\n",
       "      <td>2.333333</td>\n",
       "      <td>3</td>\n",
       "    </tr>\n",
       "    <tr>\n",
       "      <th>2</th>\n",
       "      <td>7.000000</td>\n",
       "      <td>2.000000</td>\n",
       "      <td>5.000000</td>\n",
       "      <td>2</td>\n",
       "    </tr>\n",
       "    <tr>\n",
       "      <th>3</th>\n",
       "      <td>12.555556</td>\n",
       "      <td>2.111111</td>\n",
       "      <td>2.555556</td>\n",
       "      <td>9</td>\n",
       "    </tr>\n",
       "    <tr>\n",
       "      <th>4</th>\n",
       "      <td>19.200000</td>\n",
       "      <td>6.800000</td>\n",
       "      <td>4.200000</td>\n",
       "      <td>10</td>\n",
       "    </tr>\n",
       "    <tr>\n",
       "      <th>5</th>\n",
       "      <td>22.500000</td>\n",
       "      <td>4.800000</td>\n",
       "      <td>3.800000</td>\n",
       "      <td>10</td>\n",
       "    </tr>\n",
       "    <tr>\n",
       "      <th>6</th>\n",
       "      <td>26.666667</td>\n",
       "      <td>1.500000</td>\n",
       "      <td>7.000000</td>\n",
       "      <td>6</td>\n",
       "    </tr>\n",
       "    <tr>\n",
       "      <th>7</th>\n",
       "      <td>33.250000</td>\n",
       "      <td>12.250000</td>\n",
       "      <td>5.250000</td>\n",
       "      <td>4</td>\n",
       "    </tr>\n",
       "    <tr>\n",
       "      <th>8</th>\n",
       "      <td>39.000000</td>\n",
       "      <td>1.000000</td>\n",
       "      <td>8.000000</td>\n",
       "      <td>1</td>\n",
       "    </tr>\n",
       "    <tr>\n",
       "      <th>9</th>\n",
       "      <td>42.000000</td>\n",
       "      <td>18.000000</td>\n",
       "      <td>8.000000</td>\n",
       "      <td>1</td>\n",
       "    </tr>\n",
       "    <tr>\n",
       "      <th>10</th>\n",
       "      <td>47.000000</td>\n",
       "      <td>1.000000</td>\n",
       "      <td>9.000000</td>\n",
       "      <td>1</td>\n",
       "    </tr>\n",
       "    <tr>\n",
       "      <th>11</th>\n",
       "      <td>61.200000</td>\n",
       "      <td>10.800000</td>\n",
       "      <td>14.600000</td>\n",
       "      <td>5</td>\n",
       "    </tr>\n",
       "  </tbody>\n",
       "</table>\n",
       "</div>"
      ],
      "text/plain": [
       "                     # LNs examined    # LNs +  # LN specimens  Count\n",
       "binned_LNs_examined                                                  \n",
       "1                          4.333333   1.666667        2.333333      3\n",
       "2                          7.000000   2.000000        5.000000      2\n",
       "3                         12.555556   2.111111        2.555556      9\n",
       "4                         19.200000   6.800000        4.200000     10\n",
       "5                         22.500000   4.800000        3.800000     10\n",
       "6                         26.666667   1.500000        7.000000      6\n",
       "7                         33.250000  12.250000        5.250000      4\n",
       "8                         39.000000   1.000000        8.000000      1\n",
       "9                         42.000000  18.000000        8.000000      1\n",
       "10                        47.000000   1.000000        9.000000      1\n",
       "11                        61.200000  10.800000       14.600000      5"
      ]
     },
     "execution_count": 307,
     "metadata": {},
     "output_type": "execute_result"
    }
   ],
   "source": [
    "#Mean by Examined Bins\n",
    "df_count = df_pos.groupby('binned_LNs_examined').count()\n",
    "df_count = df_count['Case Number']\n",
    "\n",
    "df_mean_data = df_pos.groupby('binned_LNs_examined').mean()\n",
    "df_mean = pd.DataFrame(df_mean_data)\n",
    "df_mean = df_mean[['# LNs examined','# LNs +','# LN specimens']]\n",
    "df_mean['Count'] = df_count\n",
    "#output sent to csv\n",
    "df_mean.to_csv('./data/output_data/Examined_bins_mean_pos_only.csv')\n",
    "df_mean"
   ]
  },
  {
   "cell_type": "markdown",
   "metadata": {},
   "source": [
    "**3. Group by Examined bins and outcome**"
   ]
  },
  {
   "cell_type": "code",
   "execution_count": 304,
   "metadata": {},
   "outputs": [],
   "source": [
    "df_count = df.groupby(['binned_LNs_examined','alive_awd']).count()\n",
    "df_count = df_count['Case Number']"
   ]
  },
  {
   "cell_type": "code",
   "execution_count": 305,
   "metadata": {},
   "outputs": [
    {
     "data": {
      "text/html": [
       "<div>\n",
       "<style scoped>\n",
       "    .dataframe tbody tr th:only-of-type {\n",
       "        vertical-align: middle;\n",
       "    }\n",
       "\n",
       "    .dataframe tbody tr th {\n",
       "        vertical-align: top;\n",
       "    }\n",
       "\n",
       "    .dataframe thead th {\n",
       "        text-align: right;\n",
       "    }\n",
       "</style>\n",
       "<table border=\"1\" class=\"dataframe\">\n",
       "  <thead>\n",
       "    <tr style=\"text-align: right;\">\n",
       "      <th></th>\n",
       "      <th></th>\n",
       "      <th># LNs examined</th>\n",
       "      <th># LNs +</th>\n",
       "      <th># LN specimens</th>\n",
       "      <th>Count</th>\n",
       "    </tr>\n",
       "    <tr>\n",
       "      <th>binned_LNs_examined</th>\n",
       "      <th>alive_awd</th>\n",
       "      <th></th>\n",
       "      <th></th>\n",
       "      <th></th>\n",
       "      <th></th>\n",
       "    </tr>\n",
       "  </thead>\n",
       "  <tbody>\n",
       "    <tr>\n",
       "      <th rowspan=\"3\" valign=\"top\">1</th>\n",
       "      <th>0</th>\n",
       "      <td>5.000000</td>\n",
       "      <td>1.000000</td>\n",
       "      <td>4.000000</td>\n",
       "      <td>1.0</td>\n",
       "    </tr>\n",
       "    <tr>\n",
       "      <th>1</th>\n",
       "      <td>3.600000</td>\n",
       "      <td>0.800000</td>\n",
       "      <td>0.800000</td>\n",
       "      <td>5.0</td>\n",
       "    </tr>\n",
       "    <tr>\n",
       "      <th>2</th>\n",
       "      <td>5.000000</td>\n",
       "      <td>0.000000</td>\n",
       "      <td>2.000000</td>\n",
       "      <td>1.0</td>\n",
       "    </tr>\n",
       "    <tr>\n",
       "      <th rowspan=\"3\" valign=\"top\">2</th>\n",
       "      <th>0</th>\n",
       "      <td>8.000000</td>\n",
       "      <td>0.000000</td>\n",
       "      <td>3.000000</td>\n",
       "      <td>1.0</td>\n",
       "    </tr>\n",
       "    <tr>\n",
       "      <th>1</th>\n",
       "      <td>9.000000</td>\n",
       "      <td>0.000000</td>\n",
       "      <td>2.500000</td>\n",
       "      <td>8.0</td>\n",
       "    </tr>\n",
       "    <tr>\n",
       "      <th>2</th>\n",
       "      <td>7.750000</td>\n",
       "      <td>1.000000</td>\n",
       "      <td>5.500000</td>\n",
       "      <td>4.0</td>\n",
       "    </tr>\n",
       "    <tr>\n",
       "      <th rowspan=\"3\" valign=\"top\">3</th>\n",
       "      <th>0</th>\n",
       "      <td>12.428571</td>\n",
       "      <td>1.142857</td>\n",
       "      <td>4.428571</td>\n",
       "      <td>7.0</td>\n",
       "    </tr>\n",
       "    <tr>\n",
       "      <th>1</th>\n",
       "      <td>13.107143</td>\n",
       "      <td>0.107143</td>\n",
       "      <td>3.714286</td>\n",
       "      <td>28.0</td>\n",
       "    </tr>\n",
       "    <tr>\n",
       "      <th>2</th>\n",
       "      <td>13.400000</td>\n",
       "      <td>0.800000</td>\n",
       "      <td>2.600000</td>\n",
       "      <td>10.0</td>\n",
       "    </tr>\n",
       "    <tr>\n",
       "      <th rowspan=\"3\" valign=\"top\">4</th>\n",
       "      <th>0</th>\n",
       "      <td>17.750000</td>\n",
       "      <td>2.250000</td>\n",
       "      <td>3.750000</td>\n",
       "      <td>4.0</td>\n",
       "    </tr>\n",
       "    <tr>\n",
       "      <th>1</th>\n",
       "      <td>17.833333</td>\n",
       "      <td>2.125000</td>\n",
       "      <td>4.250000</td>\n",
       "      <td>24.0</td>\n",
       "    </tr>\n",
       "    <tr>\n",
       "      <th>2</th>\n",
       "      <td>19.333333</td>\n",
       "      <td>0.888889</td>\n",
       "      <td>5.444444</td>\n",
       "      <td>9.0</td>\n",
       "    </tr>\n",
       "    <tr>\n",
       "      <th rowspan=\"3\" valign=\"top\">5</th>\n",
       "      <th>0</th>\n",
       "      <td>22.000000</td>\n",
       "      <td>1.750000</td>\n",
       "      <td>4.750000</td>\n",
       "      <td>8.0</td>\n",
       "    </tr>\n",
       "    <tr>\n",
       "      <th>1</th>\n",
       "      <td>23.117647</td>\n",
       "      <td>0.411765</td>\n",
       "      <td>4.176471</td>\n",
       "      <td>17.0</td>\n",
       "    </tr>\n",
       "    <tr>\n",
       "      <th>2</th>\n",
       "      <td>22.333333</td>\n",
       "      <td>3.000000</td>\n",
       "      <td>4.333333</td>\n",
       "      <td>9.0</td>\n",
       "    </tr>\n",
       "    <tr>\n",
       "      <th rowspan=\"3\" valign=\"top\">6</th>\n",
       "      <th>0</th>\n",
       "      <td>30.000000</td>\n",
       "      <td>0.000000</td>\n",
       "      <td>8.000000</td>\n",
       "      <td>1.0</td>\n",
       "    </tr>\n",
       "    <tr>\n",
       "      <th>1</th>\n",
       "      <td>27.555556</td>\n",
       "      <td>0.444444</td>\n",
       "      <td>4.888889</td>\n",
       "      <td>9.0</td>\n",
       "    </tr>\n",
       "    <tr>\n",
       "      <th>2</th>\n",
       "      <td>27.000000</td>\n",
       "      <td>0.625000</td>\n",
       "      <td>6.875000</td>\n",
       "      <td>8.0</td>\n",
       "    </tr>\n",
       "    <tr>\n",
       "      <th rowspan=\"3\" valign=\"top\">7</th>\n",
       "      <th>0</th>\n",
       "      <td>NaN</td>\n",
       "      <td>NaN</td>\n",
       "      <td>NaN</td>\n",
       "      <td>NaN</td>\n",
       "    </tr>\n",
       "    <tr>\n",
       "      <th>1</th>\n",
       "      <td>33.250000</td>\n",
       "      <td>0.000000</td>\n",
       "      <td>9.500000</td>\n",
       "      <td>4.0</td>\n",
       "    </tr>\n",
       "    <tr>\n",
       "      <th>2</th>\n",
       "      <td>33.285714</td>\n",
       "      <td>7.000000</td>\n",
       "      <td>5.714286</td>\n",
       "      <td>7.0</td>\n",
       "    </tr>\n",
       "    <tr>\n",
       "      <th rowspan=\"3\" valign=\"top\">8</th>\n",
       "      <th>0</th>\n",
       "      <td>NaN</td>\n",
       "      <td>NaN</td>\n",
       "      <td>NaN</td>\n",
       "      <td>NaN</td>\n",
       "    </tr>\n",
       "    <tr>\n",
       "      <th>1</th>\n",
       "      <td>38.888889</td>\n",
       "      <td>0.111111</td>\n",
       "      <td>8.111111</td>\n",
       "      <td>9.0</td>\n",
       "    </tr>\n",
       "    <tr>\n",
       "      <th>2</th>\n",
       "      <td>NaN</td>\n",
       "      <td>NaN</td>\n",
       "      <td>NaN</td>\n",
       "      <td>NaN</td>\n",
       "    </tr>\n",
       "    <tr>\n",
       "      <th rowspan=\"3\" valign=\"top\">9</th>\n",
       "      <th>0</th>\n",
       "      <td>45.000000</td>\n",
       "      <td>0.000000</td>\n",
       "      <td>6.000000</td>\n",
       "      <td>1.0</td>\n",
       "    </tr>\n",
       "    <tr>\n",
       "      <th>1</th>\n",
       "      <td>43.750000</td>\n",
       "      <td>0.000000</td>\n",
       "      <td>13.500000</td>\n",
       "      <td>4.0</td>\n",
       "    </tr>\n",
       "    <tr>\n",
       "      <th>2</th>\n",
       "      <td>42.000000</td>\n",
       "      <td>18.000000</td>\n",
       "      <td>8.000000</td>\n",
       "      <td>1.0</td>\n",
       "    </tr>\n",
       "    <tr>\n",
       "      <th rowspan=\"3\" valign=\"top\">10</th>\n",
       "      <th>0</th>\n",
       "      <td>NaN</td>\n",
       "      <td>NaN</td>\n",
       "      <td>NaN</td>\n",
       "      <td>NaN</td>\n",
       "    </tr>\n",
       "    <tr>\n",
       "      <th>1</th>\n",
       "      <td>47.500000</td>\n",
       "      <td>0.000000</td>\n",
       "      <td>11.500000</td>\n",
       "      <td>6.0</td>\n",
       "    </tr>\n",
       "    <tr>\n",
       "      <th>2</th>\n",
       "      <td>47.750000</td>\n",
       "      <td>0.250000</td>\n",
       "      <td>12.000000</td>\n",
       "      <td>4.0</td>\n",
       "    </tr>\n",
       "    <tr>\n",
       "      <th rowspan=\"3\" valign=\"top\">11</th>\n",
       "      <th>0</th>\n",
       "      <td>58.000000</td>\n",
       "      <td>5.000000</td>\n",
       "      <td>12.000000</td>\n",
       "      <td>1.0</td>\n",
       "    </tr>\n",
       "    <tr>\n",
       "      <th>1</th>\n",
       "      <td>64.625000</td>\n",
       "      <td>5.625000</td>\n",
       "      <td>14.000000</td>\n",
       "      <td>8.0</td>\n",
       "    </tr>\n",
       "    <tr>\n",
       "      <th>2</th>\n",
       "      <td>54.000000</td>\n",
       "      <td>4.000000</td>\n",
       "      <td>14.000000</td>\n",
       "      <td>1.0</td>\n",
       "    </tr>\n",
       "  </tbody>\n",
       "</table>\n",
       "</div>"
      ],
      "text/plain": [
       "                               # LNs examined    # LNs +  # LN specimens  \\\n",
       "binned_LNs_examined alive_awd                                              \n",
       "1                   0                5.000000   1.000000        4.000000   \n",
       "                    1                3.600000   0.800000        0.800000   \n",
       "                    2                5.000000   0.000000        2.000000   \n",
       "2                   0                8.000000   0.000000        3.000000   \n",
       "                    1                9.000000   0.000000        2.500000   \n",
       "                    2                7.750000   1.000000        5.500000   \n",
       "3                   0               12.428571   1.142857        4.428571   \n",
       "                    1               13.107143   0.107143        3.714286   \n",
       "                    2               13.400000   0.800000        2.600000   \n",
       "4                   0               17.750000   2.250000        3.750000   \n",
       "                    1               17.833333   2.125000        4.250000   \n",
       "                    2               19.333333   0.888889        5.444444   \n",
       "5                   0               22.000000   1.750000        4.750000   \n",
       "                    1               23.117647   0.411765        4.176471   \n",
       "                    2               22.333333   3.000000        4.333333   \n",
       "6                   0               30.000000   0.000000        8.000000   \n",
       "                    1               27.555556   0.444444        4.888889   \n",
       "                    2               27.000000   0.625000        6.875000   \n",
       "7                   0                     NaN        NaN             NaN   \n",
       "                    1               33.250000   0.000000        9.500000   \n",
       "                    2               33.285714   7.000000        5.714286   \n",
       "8                   0                     NaN        NaN             NaN   \n",
       "                    1               38.888889   0.111111        8.111111   \n",
       "                    2                     NaN        NaN             NaN   \n",
       "9                   0               45.000000   0.000000        6.000000   \n",
       "                    1               43.750000   0.000000       13.500000   \n",
       "                    2               42.000000  18.000000        8.000000   \n",
       "10                  0                     NaN        NaN             NaN   \n",
       "                    1               47.500000   0.000000       11.500000   \n",
       "                    2               47.750000   0.250000       12.000000   \n",
       "11                  0               58.000000   5.000000       12.000000   \n",
       "                    1               64.625000   5.625000       14.000000   \n",
       "                    2               54.000000   4.000000       14.000000   \n",
       "\n",
       "                               Count  \n",
       "binned_LNs_examined alive_awd         \n",
       "1                   0            1.0  \n",
       "                    1            5.0  \n",
       "                    2            1.0  \n",
       "2                   0            1.0  \n",
       "                    1            8.0  \n",
       "                    2            4.0  \n",
       "3                   0            7.0  \n",
       "                    1           28.0  \n",
       "                    2           10.0  \n",
       "4                   0            4.0  \n",
       "                    1           24.0  \n",
       "                    2            9.0  \n",
       "5                   0            8.0  \n",
       "                    1           17.0  \n",
       "                    2            9.0  \n",
       "6                   0            1.0  \n",
       "                    1            9.0  \n",
       "                    2            8.0  \n",
       "7                   0            NaN  \n",
       "                    1            4.0  \n",
       "                    2            7.0  \n",
       "8                   0            NaN  \n",
       "                    1            9.0  \n",
       "                    2            NaN  \n",
       "9                   0            1.0  \n",
       "                    1            4.0  \n",
       "                    2            1.0  \n",
       "10                  0            NaN  \n",
       "                    1            6.0  \n",
       "                    2            4.0  \n",
       "11                  0            1.0  \n",
       "                    1            8.0  \n",
       "                    2            1.0  "
      ]
     },
     "execution_count": 305,
     "metadata": {},
     "output_type": "execute_result"
    }
   ],
   "source": [
    "df_mean_data = df.groupby(['binned_LNs_examined','alive_awd']).mean()\n",
    "df_mean = pd.DataFrame(df_mean_data)\n",
    "df_mean = df_mean[['# LNs examined','# LNs +','# LN specimens']]\n",
    "df_mean['Count'] = df_count\n",
    "df_mean.to_csv('./data/output_data/Examined_bins_&_alive-awd_mean.csv')\n",
    "df_mean"
   ]
  },
  {
   "cell_type": "markdown",
   "metadata": {},
   "source": [
    "**4. Group by Examined bins and outcome - positive only**"
   ]
  },
  {
   "cell_type": "code",
   "execution_count": 308,
   "metadata": {},
   "outputs": [],
   "source": [
    "df_count = df_pos.groupby(['binned_LNs_examined','alive_awd']).count()\n",
    "df_count = df_count['Case Number']"
   ]
  },
  {
   "cell_type": "code",
   "execution_count": 309,
   "metadata": {},
   "outputs": [
    {
     "data": {
      "text/html": [
       "<div>\n",
       "<style scoped>\n",
       "    .dataframe tbody tr th:only-of-type {\n",
       "        vertical-align: middle;\n",
       "    }\n",
       "\n",
       "    .dataframe tbody tr th {\n",
       "        vertical-align: top;\n",
       "    }\n",
       "\n",
       "    .dataframe thead th {\n",
       "        text-align: right;\n",
       "    }\n",
       "</style>\n",
       "<table border=\"1\" class=\"dataframe\">\n",
       "  <thead>\n",
       "    <tr style=\"text-align: right;\">\n",
       "      <th></th>\n",
       "      <th></th>\n",
       "      <th># LNs examined</th>\n",
       "      <th># LNs +</th>\n",
       "      <th># LN specimens</th>\n",
       "      <th>Count</th>\n",
       "    </tr>\n",
       "    <tr>\n",
       "      <th>binned_LNs_examined</th>\n",
       "      <th>alive_awd</th>\n",
       "      <th></th>\n",
       "      <th></th>\n",
       "      <th></th>\n",
       "      <th></th>\n",
       "    </tr>\n",
       "  </thead>\n",
       "  <tbody>\n",
       "    <tr>\n",
       "      <th rowspan=\"3\" valign=\"top\">1</th>\n",
       "      <th>0</th>\n",
       "      <td>5.000000</td>\n",
       "      <td>1.000000</td>\n",
       "      <td>4.000000</td>\n",
       "      <td>1.0</td>\n",
       "    </tr>\n",
       "    <tr>\n",
       "      <th>1</th>\n",
       "      <td>4.000000</td>\n",
       "      <td>2.000000</td>\n",
       "      <td>1.500000</td>\n",
       "      <td>2.0</td>\n",
       "    </tr>\n",
       "    <tr>\n",
       "      <th>2</th>\n",
       "      <td>NaN</td>\n",
       "      <td>NaN</td>\n",
       "      <td>NaN</td>\n",
       "      <td>NaN</td>\n",
       "    </tr>\n",
       "    <tr>\n",
       "      <th rowspan=\"3\" valign=\"top\">2</th>\n",
       "      <th>0</th>\n",
       "      <td>NaN</td>\n",
       "      <td>NaN</td>\n",
       "      <td>NaN</td>\n",
       "      <td>NaN</td>\n",
       "    </tr>\n",
       "    <tr>\n",
       "      <th>1</th>\n",
       "      <td>NaN</td>\n",
       "      <td>NaN</td>\n",
       "      <td>NaN</td>\n",
       "      <td>NaN</td>\n",
       "    </tr>\n",
       "    <tr>\n",
       "      <th>2</th>\n",
       "      <td>7.000000</td>\n",
       "      <td>2.000000</td>\n",
       "      <td>5.000000</td>\n",
       "      <td>2.0</td>\n",
       "    </tr>\n",
       "    <tr>\n",
       "      <th rowspan=\"3\" valign=\"top\">3</th>\n",
       "      <th>0</th>\n",
       "      <td>11.000000</td>\n",
       "      <td>4.000000</td>\n",
       "      <td>2.500000</td>\n",
       "      <td>2.0</td>\n",
       "    </tr>\n",
       "    <tr>\n",
       "      <th>1</th>\n",
       "      <td>12.333333</td>\n",
       "      <td>1.000000</td>\n",
       "      <td>2.000000</td>\n",
       "      <td>3.0</td>\n",
       "    </tr>\n",
       "    <tr>\n",
       "      <th>2</th>\n",
       "      <td>13.500000</td>\n",
       "      <td>2.000000</td>\n",
       "      <td>3.000000</td>\n",
       "      <td>4.0</td>\n",
       "    </tr>\n",
       "    <tr>\n",
       "      <th rowspan=\"3\" valign=\"top\">4</th>\n",
       "      <th>0</th>\n",
       "      <td>20.000000</td>\n",
       "      <td>9.000000</td>\n",
       "      <td>2.000000</td>\n",
       "      <td>1.0</td>\n",
       "    </tr>\n",
       "    <tr>\n",
       "      <th>1</th>\n",
       "      <td>18.600000</td>\n",
       "      <td>10.200000</td>\n",
       "      <td>4.800000</td>\n",
       "      <td>5.0</td>\n",
       "    </tr>\n",
       "    <tr>\n",
       "      <th>2</th>\n",
       "      <td>19.750000</td>\n",
       "      <td>2.000000</td>\n",
       "      <td>4.000000</td>\n",
       "      <td>4.0</td>\n",
       "    </tr>\n",
       "    <tr>\n",
       "      <th rowspan=\"3\" valign=\"top\">5</th>\n",
       "      <th>0</th>\n",
       "      <td>21.333333</td>\n",
       "      <td>4.666667</td>\n",
       "      <td>4.333333</td>\n",
       "      <td>3.0</td>\n",
       "    </tr>\n",
       "    <tr>\n",
       "      <th>1</th>\n",
       "      <td>23.000000</td>\n",
       "      <td>2.333333</td>\n",
       "      <td>4.000000</td>\n",
       "      <td>3.0</td>\n",
       "    </tr>\n",
       "    <tr>\n",
       "      <th>2</th>\n",
       "      <td>23.000000</td>\n",
       "      <td>6.750000</td>\n",
       "      <td>3.250000</td>\n",
       "      <td>4.0</td>\n",
       "    </tr>\n",
       "    <tr>\n",
       "      <th rowspan=\"3\" valign=\"top\">6</th>\n",
       "      <th>0</th>\n",
       "      <td>NaN</td>\n",
       "      <td>NaN</td>\n",
       "      <td>NaN</td>\n",
       "      <td>NaN</td>\n",
       "    </tr>\n",
       "    <tr>\n",
       "      <th>1</th>\n",
       "      <td>26.000000</td>\n",
       "      <td>2.000000</td>\n",
       "      <td>8.500000</td>\n",
       "      <td>2.0</td>\n",
       "    </tr>\n",
       "    <tr>\n",
       "      <th>2</th>\n",
       "      <td>27.000000</td>\n",
       "      <td>1.250000</td>\n",
       "      <td>6.250000</td>\n",
       "      <td>4.0</td>\n",
       "    </tr>\n",
       "    <tr>\n",
       "      <th rowspan=\"3\" valign=\"top\">7</th>\n",
       "      <th>0</th>\n",
       "      <td>NaN</td>\n",
       "      <td>NaN</td>\n",
       "      <td>NaN</td>\n",
       "      <td>NaN</td>\n",
       "    </tr>\n",
       "    <tr>\n",
       "      <th>1</th>\n",
       "      <td>NaN</td>\n",
       "      <td>NaN</td>\n",
       "      <td>NaN</td>\n",
       "      <td>NaN</td>\n",
       "    </tr>\n",
       "    <tr>\n",
       "      <th>2</th>\n",
       "      <td>33.250000</td>\n",
       "      <td>12.250000</td>\n",
       "      <td>5.250000</td>\n",
       "      <td>4.0</td>\n",
       "    </tr>\n",
       "    <tr>\n",
       "      <th rowspan=\"3\" valign=\"top\">8</th>\n",
       "      <th>0</th>\n",
       "      <td>NaN</td>\n",
       "      <td>NaN</td>\n",
       "      <td>NaN</td>\n",
       "      <td>NaN</td>\n",
       "    </tr>\n",
       "    <tr>\n",
       "      <th>1</th>\n",
       "      <td>39.000000</td>\n",
       "      <td>1.000000</td>\n",
       "      <td>8.000000</td>\n",
       "      <td>1.0</td>\n",
       "    </tr>\n",
       "    <tr>\n",
       "      <th>2</th>\n",
       "      <td>NaN</td>\n",
       "      <td>NaN</td>\n",
       "      <td>NaN</td>\n",
       "      <td>NaN</td>\n",
       "    </tr>\n",
       "    <tr>\n",
       "      <th rowspan=\"3\" valign=\"top\">9</th>\n",
       "      <th>0</th>\n",
       "      <td>NaN</td>\n",
       "      <td>NaN</td>\n",
       "      <td>NaN</td>\n",
       "      <td>NaN</td>\n",
       "    </tr>\n",
       "    <tr>\n",
       "      <th>1</th>\n",
       "      <td>NaN</td>\n",
       "      <td>NaN</td>\n",
       "      <td>NaN</td>\n",
       "      <td>NaN</td>\n",
       "    </tr>\n",
       "    <tr>\n",
       "      <th>2</th>\n",
       "      <td>42.000000</td>\n",
       "      <td>18.000000</td>\n",
       "      <td>8.000000</td>\n",
       "      <td>1.0</td>\n",
       "    </tr>\n",
       "    <tr>\n",
       "      <th rowspan=\"3\" valign=\"top\">10</th>\n",
       "      <th>0</th>\n",
       "      <td>NaN</td>\n",
       "      <td>NaN</td>\n",
       "      <td>NaN</td>\n",
       "      <td>NaN</td>\n",
       "    </tr>\n",
       "    <tr>\n",
       "      <th>1</th>\n",
       "      <td>NaN</td>\n",
       "      <td>NaN</td>\n",
       "      <td>NaN</td>\n",
       "      <td>NaN</td>\n",
       "    </tr>\n",
       "    <tr>\n",
       "      <th>2</th>\n",
       "      <td>47.000000</td>\n",
       "      <td>1.000000</td>\n",
       "      <td>9.000000</td>\n",
       "      <td>1.0</td>\n",
       "    </tr>\n",
       "    <tr>\n",
       "      <th rowspan=\"3\" valign=\"top\">11</th>\n",
       "      <th>0</th>\n",
       "      <td>58.000000</td>\n",
       "      <td>5.000000</td>\n",
       "      <td>12.000000</td>\n",
       "      <td>1.0</td>\n",
       "    </tr>\n",
       "    <tr>\n",
       "      <th>1</th>\n",
       "      <td>64.666667</td>\n",
       "      <td>15.000000</td>\n",
       "      <td>15.666667</td>\n",
       "      <td>3.0</td>\n",
       "    </tr>\n",
       "    <tr>\n",
       "      <th>2</th>\n",
       "      <td>54.000000</td>\n",
       "      <td>4.000000</td>\n",
       "      <td>14.000000</td>\n",
       "      <td>1.0</td>\n",
       "    </tr>\n",
       "  </tbody>\n",
       "</table>\n",
       "</div>"
      ],
      "text/plain": [
       "                               # LNs examined    # LNs +  # LN specimens  \\\n",
       "binned_LNs_examined alive_awd                                              \n",
       "1                   0                5.000000   1.000000        4.000000   \n",
       "                    1                4.000000   2.000000        1.500000   \n",
       "                    2                     NaN        NaN             NaN   \n",
       "2                   0                     NaN        NaN             NaN   \n",
       "                    1                     NaN        NaN             NaN   \n",
       "                    2                7.000000   2.000000        5.000000   \n",
       "3                   0               11.000000   4.000000        2.500000   \n",
       "                    1               12.333333   1.000000        2.000000   \n",
       "                    2               13.500000   2.000000        3.000000   \n",
       "4                   0               20.000000   9.000000        2.000000   \n",
       "                    1               18.600000  10.200000        4.800000   \n",
       "                    2               19.750000   2.000000        4.000000   \n",
       "5                   0               21.333333   4.666667        4.333333   \n",
       "                    1               23.000000   2.333333        4.000000   \n",
       "                    2               23.000000   6.750000        3.250000   \n",
       "6                   0                     NaN        NaN             NaN   \n",
       "                    1               26.000000   2.000000        8.500000   \n",
       "                    2               27.000000   1.250000        6.250000   \n",
       "7                   0                     NaN        NaN             NaN   \n",
       "                    1                     NaN        NaN             NaN   \n",
       "                    2               33.250000  12.250000        5.250000   \n",
       "8                   0                     NaN        NaN             NaN   \n",
       "                    1               39.000000   1.000000        8.000000   \n",
       "                    2                     NaN        NaN             NaN   \n",
       "9                   0                     NaN        NaN             NaN   \n",
       "                    1                     NaN        NaN             NaN   \n",
       "                    2               42.000000  18.000000        8.000000   \n",
       "10                  0                     NaN        NaN             NaN   \n",
       "                    1                     NaN        NaN             NaN   \n",
       "                    2               47.000000   1.000000        9.000000   \n",
       "11                  0               58.000000   5.000000       12.000000   \n",
       "                    1               64.666667  15.000000       15.666667   \n",
       "                    2               54.000000   4.000000       14.000000   \n",
       "\n",
       "                               Count  \n",
       "binned_LNs_examined alive_awd         \n",
       "1                   0            1.0  \n",
       "                    1            2.0  \n",
       "                    2            NaN  \n",
       "2                   0            NaN  \n",
       "                    1            NaN  \n",
       "                    2            2.0  \n",
       "3                   0            2.0  \n",
       "                    1            3.0  \n",
       "                    2            4.0  \n",
       "4                   0            1.0  \n",
       "                    1            5.0  \n",
       "                    2            4.0  \n",
       "5                   0            3.0  \n",
       "                    1            3.0  \n",
       "                    2            4.0  \n",
       "6                   0            NaN  \n",
       "                    1            2.0  \n",
       "                    2            4.0  \n",
       "7                   0            NaN  \n",
       "                    1            NaN  \n",
       "                    2            4.0  \n",
       "8                   0            NaN  \n",
       "                    1            1.0  \n",
       "                    2            NaN  \n",
       "9                   0            NaN  \n",
       "                    1            NaN  \n",
       "                    2            1.0  \n",
       "10                  0            NaN  \n",
       "                    1            NaN  \n",
       "                    2            1.0  \n",
       "11                  0            1.0  \n",
       "                    1            3.0  \n",
       "                    2            1.0  "
      ]
     },
     "execution_count": 309,
     "metadata": {},
     "output_type": "execute_result"
    }
   ],
   "source": [
    "df_mean_data = df_pos.groupby(['binned_LNs_examined','alive_awd']).mean()\n",
    "df_mean = pd.DataFrame(df_mean_data)\n",
    "df_mean = df_mean[['# LNs examined','# LNs +','# LN specimens']]\n",
    "df_mean['Count'] = df_count\n",
    "df_mean.to_csv('./data/output_data/Examined_bins_&_alive-awd_mean_pos_only.csv')\n",
    "df_mean"
   ]
  },
  {
   "cell_type": "markdown",
   "metadata": {},
   "source": [
    "**5. Examined bins - Group by all fields**"
   ]
  },
  {
   "cell_type": "code",
   "execution_count": null,
   "metadata": {},
   "outputs": [],
   "source": []
  },
  {
   "cell_type": "code",
   "execution_count": null,
   "metadata": {},
   "outputs": [],
   "source": []
  },
  {
   "cell_type": "markdown",
   "metadata": {},
   "source": [
    "### (B) Viz"
   ]
  },
  {
   "cell_type": "code",
   "execution_count": 228,
   "metadata": {
    "scrolled": true
   },
   "outputs": [
    {
     "data": {
      "image/png": "[encoded data removed]",
      "text/plain": [
       "<Figure size 432x288 with 1 Axes>"
      ]
     },
     "metadata": {
      "needs_background": "light"
     },
     "output_type": "display_data"
    }
   ],
   "source": [
    "plt.scatter(df['# LNs examined'],df['# LNs +'],label=('binned examined','positive'))\n",
    "plt.ylabel(\"Postive LNs\")\n",
    "plt.xlabel(\"# Examined LNs\");"
   ]
  },
  {
   "cell_type": "code",
   "execution_count": 128,
   "metadata": {},
   "outputs": [
    {
     "data": {
      "image/png": "[encoded data removed]",
      "text/plain": [
       "<Figure size 432x288 with 1 Axes>"
      ]
     },
     "metadata": {
      "needs_background": "light"
     },
     "output_type": "display_data"
    }
   ],
   "source": [
    "plt.scatter(df['binned_LNs_examined'],df['# LNs +'],label=('binned examined','positive'))\n",
    "plt.ylabel(\"Postive LNs\")\n",
    "plt.xlabel(\"Examined Bins\");"
   ]
  },
  {
   "cell_type": "markdown",
   "metadata": {},
   "source": [
    "## IV. Hypothesis testing"
   ]
  },
  {
   "cell_type": "code",
   "execution_count": 5,
   "metadata": {},
   "outputs": [
    {
     "data": {
      "text/html": [
       "<div>\n",
       "<style scoped>\n",
       "    .dataframe tbody tr th:only-of-type {\n",
       "        vertical-align: middle;\n",
       "    }\n",
       "\n",
       "    .dataframe tbody tr th {\n",
       "        vertical-align: top;\n",
       "    }\n",
       "\n",
       "    .dataframe thead th {\n",
       "        text-align: right;\n",
       "    }\n",
       "</style>\n",
       "<table border=\"1\" class=\"dataframe\">\n",
       "  <thead>\n",
       "    <tr style=\"text-align: right;\">\n",
       "      <th></th>\n",
       "      <th>Case Number</th>\n",
       "      <th>Sex</th>\n",
       "      <th>Age at bx</th>\n",
       "      <th>Date of Cystectomy</th>\n",
       "      <th>Last F/U date</th>\n",
       "      <th>F/U mos</th>\n",
       "      <th>alive/dead</th>\n",
       "      <th>AWD?</th>\n",
       "      <th># LNs examined</th>\n",
       "      <th># LNs +</th>\n",
       "      <th># LN specimens</th>\n",
       "      <th>Male</th>\n",
       "      <th>alive</th>\n",
       "      <th>binned_LNs_examined</th>\n",
       "      <th>Extent of LND</th>\n",
       "      <th>Other/Notes/Complications</th>\n",
       "      <th>Flag</th>\n",
       "      <th>alive_awd</th>\n",
       "      <th>Extent of LND Description</th>\n",
       "    </tr>\n",
       "  </thead>\n",
       "  <tbody>\n",
       "    <tr>\n",
       "      <th>0</th>\n",
       "      <td>1</td>\n",
       "      <td>Male</td>\n",
       "      <td>68</td>\n",
       "      <td>3/3/09</td>\n",
       "      <td>8/13/19</td>\n",
       "      <td>125</td>\n",
       "      <td>alive</td>\n",
       "      <td>0.0</td>\n",
       "      <td>18</td>\n",
       "      <td>0</td>\n",
       "      <td>3</td>\n",
       "      <td>1</td>\n",
       "      <td>1</td>\n",
       "      <td>4.0</td>\n",
       "      <td>1</td>\n",
       "      <td>NaN</td>\n",
       "      <td>NaN</td>\n",
       "      <td>1</td>\n",
       "      <td>Limited</td>\n",
       "    </tr>\n",
       "    <tr>\n",
       "      <th>1</th>\n",
       "      <td>2</td>\n",
       "      <td>Female</td>\n",
       "      <td>80</td>\n",
       "      <td>1/30/09</td>\n",
       "      <td>1/2/13</td>\n",
       "      <td>47</td>\n",
       "      <td>alive</td>\n",
       "      <td>0.0</td>\n",
       "      <td>13</td>\n",
       "      <td>0</td>\n",
       "      <td>4</td>\n",
       "      <td>0</td>\n",
       "      <td>1</td>\n",
       "      <td>3.0</td>\n",
       "      <td>2</td>\n",
       "      <td>NaN</td>\n",
       "      <td>NaN</td>\n",
       "      <td>1</td>\n",
       "      <td>Extended</td>\n",
       "    </tr>\n",
       "    <tr>\n",
       "      <th>2</th>\n",
       "      <td>3</td>\n",
       "      <td>Female</td>\n",
       "      <td>73</td>\n",
       "      <td>3/24/09</td>\n",
       "      <td>9/9/11</td>\n",
       "      <td>29</td>\n",
       "      <td>alive</td>\n",
       "      <td>1.0</td>\n",
       "      <td>24</td>\n",
       "      <td>4</td>\n",
       "      <td>3</td>\n",
       "      <td>0</td>\n",
       "      <td>1</td>\n",
       "      <td>5.0</td>\n",
       "      <td>1</td>\n",
       "      <td>NaN</td>\n",
       "      <td>NaN</td>\n",
       "      <td>2</td>\n",
       "      <td>Limited</td>\n",
       "    </tr>\n",
       "    <tr>\n",
       "      <th>3</th>\n",
       "      <td>4</td>\n",
       "      <td>Male</td>\n",
       "      <td>82</td>\n",
       "      <td>3/30/09</td>\n",
       "      <td>9/3/19</td>\n",
       "      <td>125</td>\n",
       "      <td>alive</td>\n",
       "      <td>0.0</td>\n",
       "      <td>7</td>\n",
       "      <td>0</td>\n",
       "      <td>2</td>\n",
       "      <td>1</td>\n",
       "      <td>1</td>\n",
       "      <td>2.0</td>\n",
       "      <td>1</td>\n",
       "      <td>NaN</td>\n",
       "      <td>NaN</td>\n",
       "      <td>1</td>\n",
       "      <td>Limited</td>\n",
       "    </tr>\n",
       "    <tr>\n",
       "      <th>4</th>\n",
       "      <td>5</td>\n",
       "      <td>Male</td>\n",
       "      <td>73</td>\n",
       "      <td>5/1/09</td>\n",
       "      <td>2/12/10</td>\n",
       "      <td>9</td>\n",
       "      <td>alive</td>\n",
       "      <td>0.0</td>\n",
       "      <td>9</td>\n",
       "      <td>0</td>\n",
       "      <td>3</td>\n",
       "      <td>1</td>\n",
       "      <td>1</td>\n",
       "      <td>2.0</td>\n",
       "      <td>1</td>\n",
       "      <td>NaN</td>\n",
       "      <td>NaN</td>\n",
       "      <td>1</td>\n",
       "      <td>Limited</td>\n",
       "    </tr>\n",
       "  </tbody>\n",
       "</table>\n",
       "</div>"
      ],
      "text/plain": [
       "   Case Number     Sex  Age at bx Date of Cystectomy Last F/U date  F/U mos  \\\n",
       "0            1    Male         68             3/3/09       8/13/19      125   \n",
       "1            2  Female         80            1/30/09        1/2/13       47   \n",
       "2            3  Female         73            3/24/09        9/9/11       29   \n",
       "3            4    Male         82            3/30/09        9/3/19      125   \n",
       "4            5    Male         73             5/1/09       2/12/10        9   \n",
       "\n",
       "  alive/dead  AWD?  # LNs examined  # LNs +  # LN specimens  Male  alive  \\\n",
       "0      alive   0.0              18        0               3     1      1   \n",
       "1      alive   0.0              13        0               4     0      1   \n",
       "2      alive   1.0              24        4               3     0      1   \n",
       "3      alive   0.0               7        0               2     1      1   \n",
       "4      alive   0.0               9        0               3     1      1   \n",
       "\n",
       "   binned_LNs_examined  Extent of LND Other/Notes/Complications Flag  \\\n",
       "0                  4.0              1                       NaN  NaN   \n",
       "1                  3.0              2                       NaN  NaN   \n",
       "2                  5.0              1                       NaN  NaN   \n",
       "3                  2.0              1                       NaN  NaN   \n",
       "4                  2.0              1                       NaN  NaN   \n",
       "\n",
       "   alive_awd Extent of LND Description  \n",
       "0          1                   Limited  \n",
       "1          1                  Extended  \n",
       "2          2                   Limited  \n",
       "3          1                   Limited  \n",
       "4          1                   Limited  "
      ]
     },
     "execution_count": 5,
     "metadata": {},
     "output_type": "execute_result"
    }
   ],
   "source": [
    "df = pd.read_csv('./data/Cystectomy_cleaned_with_LND_Extent_updated.csv',index_col=0)\n",
    "df.head()"
   ]
  },
  {
   "cell_type": "markdown",
   "metadata": {},
   "source": [
    "**Question: Is the change in avg # of positive LNs higher for Extended (2) vs Ltd (1) Lymph Node Dissections?**"
   ]
  },
  {
   "cell_type": "markdown",
   "metadata": {},
   "source": [
    " \n",
    "> **H0:** The difference in # LNs positive between the experimental and control groups is 0.\n",
    "\n",
    "> **HA:** The difference in # LNs positive between the experimental and control groups is not 0.\n",
    "\n",
    "If $p\\text{-value} < \\alpha$, there IS a statisically significant difference between the two groups <br>\n",
    "If $p\\text{-value} \\ge \\alpha$, there is no statistical difference between your two groups.<br>\n",
    "\n",
    "Let $\\alpha$  = 0.05"
   ]
  },
  {
   "cell_type": "markdown",
   "metadata": {},
   "source": [
    "Experiment 1: All Extent of LND = 1 vs 2 <br>"
   ]
  },
  {
   "cell_type": "code",
   "execution_count": 58,
   "metadata": {
    "scrolled": true
   },
   "outputs": [
    {
     "name": "stdout",
     "output_type": "stream",
     "text": [
      "0.8556701030927835\n",
      "1.3880597014925373\n",
      "0.5323895983997539\n"
     ]
    }
   ],
   "source": [
    "#Control: LTD LND (Extent of LND = 1)\n",
    "# Import scipy.stats\n",
    "import scipy.stats as stats\n",
    "\n",
    "control = np.array(df['# LNs +'][df['Extent of LND']==1])\n",
    "print(control.mean())\n",
    "\n",
    "experimental = np.array(df['# LNs +'][df['Extent of LND']==2])\n",
    "print(experimental.mean())\n",
    "\n",
    "#Difference in mean\n",
    "print(experimental.mean()- control.mean())"
   ]
  },
  {
   "cell_type": "code",
   "execution_count": 59,
   "metadata": {},
   "outputs": [],
   "source": [
    "# Conduct our t-test.\n",
    "stats.ttest_ind(experimental, control)\n",
    "t_stat, p_value = stats.ttest_ind(experimental, control)"
   ]
  },
  {
   "cell_type": "code",
   "execution_count": 60,
   "metadata": {},
   "outputs": [
    {
     "data": {
      "text/plain": [
       "(1.0451178738551117, 0.29752544397318975)"
      ]
     },
     "execution_count": 60,
     "metadata": {},
     "output_type": "execute_result"
    }
   ],
   "source": [
    "t_stat,p_value"
   ]
  },
  {
   "cell_type": "code",
   "execution_count": 61,
   "metadata": {},
   "outputs": [
    {
     "data": {
      "text/plain": [
       "0.29752544397318975"
      ]
     },
     "execution_count": 61,
     "metadata": {},
     "output_type": "execute_result"
    }
   ],
   "source": [
    "p_value"
   ]
  },
  {
   "cell_type": "markdown",
   "metadata": {},
   "source": [
    "**Conclusion:** <br>\n",
    "Since p-value .298 is greater than alpha, there is not a statistically significant difference between Limited & Extended (all patients)"
   ]
  },
  {
   "cell_type": "markdown",
   "metadata": {},
   "source": [
    "Experiment 2: Extent of LND = 2 vs 3"
   ]
  },
  {
   "cell_type": "code",
   "execution_count": 62,
   "metadata": {
    "scrolled": true
   },
   "outputs": [
    {
     "name": "stdout",
     "output_type": "stream",
     "text": [
      "1.3880597014925373\n",
      "2.7027027027027026\n",
      "1.3146430012101653\n"
     ]
    }
   ],
   "source": [
    "#Control: LTD LND (Extent of LND = 1)\n",
    "# Import scipy.stats\n",
    "import scipy.stats as stats\n",
    "\n",
    "control = np.array(df['# LNs +'][df['Extent of LND']==2])\n",
    "print(control.mean())\n",
    "\n",
    "experimental = np.array(df['# LNs +'][df['Extent of LND']==3])\n",
    "print(experimental.mean())\n",
    "\n",
    "#Difference in mean\n",
    "print(experimental.mean()- control.mean())"
   ]
  },
  {
   "cell_type": "code",
   "execution_count": 63,
   "metadata": {},
   "outputs": [],
   "source": [
    "# Conduct our t-test.\n",
    "stats.ttest_ind(experimental, control)\n",
    "t_stat, p_value = stats.ttest_ind(experimental, control)"
   ]
  },
  {
   "cell_type": "code",
   "execution_count": 64,
   "metadata": {},
   "outputs": [
    {
     "data": {
      "text/plain": [
       "(1.2679630986384665, 0.20769780628083168)"
      ]
     },
     "execution_count": 64,
     "metadata": {},
     "output_type": "execute_result"
    }
   ],
   "source": [
    "t_stat,p_value"
   ]
  },
  {
   "cell_type": "markdown",
   "metadata": {},
   "source": [
    "**Conclusion:** <br>\n",
    "Since p-value .208 is greater than alpha, there is not a statistically significant difference between Extende and Super Extended (all patients)"
   ]
  },
  {
   "cell_type": "markdown",
   "metadata": {},
   "source": [
    "Experiment 3: Extent of LND = 1 vs 2, # LNs + >0 "
   ]
  },
  {
   "cell_type": "code",
   "execution_count": 66,
   "metadata": {
    "scrolled": true
   },
   "outputs": [
    {
     "name": "stdout",
     "output_type": "stream",
     "text": [
      "3.4583333333333335\n",
      "5.8125\n",
      "2.3541666666666665\n"
     ]
    }
   ],
   "source": [
    "#Control: LTD LND (Extent of LND = 1)\n",
    "# Import scipy.stats\n",
    "import scipy.stats as stats\n",
    "\n",
    "control = np.array(df['# LNs +'][(df['Extent of LND']==1)& (df['# LNs +']>0)])\n",
    "print(control.mean())\n",
    "\n",
    "experimental = np.array(df['# LNs +'][(df['Extent of LND']==2)& (df['# LNs +']>0)])\n",
    "print(experimental.mean())\n",
    "\n",
    "#Difference in mean\n",
    "print(experimental.mean()- control.mean())"
   ]
  },
  {
   "cell_type": "code",
   "execution_count": 67,
   "metadata": {},
   "outputs": [],
   "source": [
    "# Conduct our t-test.\n",
    "stats.ttest_ind(experimental, control)\n",
    "t_stat, p_value = stats.ttest_ind(experimental, control)"
   ]
  },
  {
   "cell_type": "code",
   "execution_count": 68,
   "metadata": {},
   "outputs": [
    {
     "data": {
      "text/plain": [
       "(1.3953499865542074, 0.17101194098632874)"
      ]
     },
     "execution_count": 68,
     "metadata": {},
     "output_type": "execute_result"
    }
   ],
   "source": [
    "t_stat,p_value"
   ]
  },
  {
   "cell_type": "markdown",
   "metadata": {},
   "source": [
    "**Conclusion:** <br>\n",
    "Since p-value .171 is greater than alpha, there is not a statistically significant difference between Limited and Extended"
   ]
  },
  {
   "cell_type": "markdown",
   "metadata": {},
   "source": [
    "#### Experiment 4: Extent of LND = 2 vs 3, # LNs + >0 "
   ]
  },
  {
   "cell_type": "code",
   "execution_count": 72,
   "metadata": {
    "scrolled": true
   },
   "outputs": [
    {
     "name": "stdout",
     "output_type": "stream",
     "text": [
      "5.8125\n",
      "8.333333333333334\n",
      "2.520833333333334\n"
     ]
    }
   ],
   "source": [
    "#Control: LTD LND (Extent of LND = 1)\n",
    "# Import scipy.stats\n",
    "import scipy.stats as stats\n",
    "\n",
    "control = np.array(df['# LNs +'][(df['Extent of LND']==2)& (df['# LNs +']>0)])\n",
    "print(control.mean())\n",
    "\n",
    "experimental = np.array(df['# LNs +'][(df['Extent of LND']==3)& (df['# LNs +']>0)])\n",
    "print(experimental.mean())\n",
    "\n",
    "#Difference in mean\n",
    "print(experimental.mean()- control.mean())"
   ]
  },
  {
   "cell_type": "code",
   "execution_count": 73,
   "metadata": {},
   "outputs": [],
   "source": [
    "# Conduct our t-test.\n",
    "stats.ttest_ind(experimental, control)\n",
    "t_stat, p_value = stats.ttest_ind(experimental, control)"
   ]
  },
  {
   "cell_type": "code",
   "execution_count": 74,
   "metadata": {
    "scrolled": true
   },
   "outputs": [
    {
     "data": {
      "text/plain": [
       "(0.8313791495149455, 0.41332990826682425)"
      ]
     },
     "execution_count": 74,
     "metadata": {},
     "output_type": "execute_result"
    }
   ],
   "source": [
    "t_stat,p_value"
   ]
  },
  {
   "cell_type": "markdown",
   "metadata": {},
   "source": [
    "**Conclusion:** <br>\n",
    "Since p-value .413 is greater than alpha, there is not a statistically significant difference between Limited and Extended"
   ]
  }
 ],
 "metadata": {
  "kernelspec": {
   "display_name": "Python 3",
   "language": "python",
   "name": "python3"
  },
  "language_info": {
   "codemirror_mode": {
    "name": "ipython",
    "version": 3
   },
   "file_extension": ".py",
   "mimetype": "text/x-python",
   "name": "python",
   "nbconvert_exporter": "python",
   "pygments_lexer": "ipython3",
   "version": "3.7.1"
  }
 },
 "nbformat": 4,
 "nbformat_minor": 2
}
